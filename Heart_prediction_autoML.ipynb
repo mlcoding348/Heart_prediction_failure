{
 "cells": [
  {
   "cell_type": "markdown",
   "id": "5469d6ab",
   "metadata": {},
   "source": [
    "# Name: Dhanush Kobal\n",
    "# Project: Heart Prediction failure \n",
    "\n",
    "## We will use AutoML to create some ML models that Azure thinks it's best"
   ]
  },
  {
   "cell_type": "code",
   "execution_count": 1,
   "id": "197ad708",
   "metadata": {},
   "outputs": [],
   "source": [
    "# uploading the packages\n",
    "import logging\n",
    "\n",
    "from matplotlib import pyplot as plt\n",
    "import pandas as pd\n",
    "import os\n",
    "\n",
    "import azureml.core\n",
    "from azureml.core.experiment import Experiment\n",
    "from azureml.core.workspace import Workspace\n",
    "from azureml.core.dataset import Dataset\n",
    "from azureml.train.automl import AutoMLConfig"
   ]
  },
  {
   "cell_type": "code",
   "execution_count": 2,
   "id": "fa18ca4d",
   "metadata": {},
   "outputs": [
    {
     "data": {
      "text/html": [
       "<div>\n",
       "<style scoped>\n",
       "    .dataframe tbody tr th:only-of-type {\n",
       "        vertical-align: middle;\n",
       "    }\n",
       "\n",
       "    .dataframe tbody tr th {\n",
       "        vertical-align: top;\n",
       "    }\n",
       "\n",
       "    .dataframe thead th {\n",
       "        text-align: right;\n",
       "    }\n",
       "</style>\n",
       "<table border=\"1\" class=\"dataframe\">\n",
       "  <thead>\n",
       "    <tr style=\"text-align: right;\">\n",
       "      <th></th>\n",
       "      <th></th>\n",
       "    </tr>\n",
       "  </thead>\n",
       "  <tbody>\n",
       "    <tr>\n",
       "      <th>Subscription ID</th>\n",
       "      <td>7ee37d15-c46a-4653-9184-c5d6f9009da9</td>\n",
       "    </tr>\n",
       "    <tr>\n",
       "      <th>Workspace</th>\n",
       "      <td>ex-1-workspace</td>\n",
       "    </tr>\n",
       "    <tr>\n",
       "      <th>Resource Group</th>\n",
       "      <td>example-1</td>\n",
       "    </tr>\n",
       "    <tr>\n",
       "      <th>Location</th>\n",
       "      <td>eastus2</td>\n",
       "    </tr>\n",
       "    <tr>\n",
       "      <th>Experiment Name</th>\n",
       "      <td>Heart_prediction_AutoML</td>\n",
       "    </tr>\n",
       "  </tbody>\n",
       "</table>\n",
       "</div>"
      ],
      "text/plain": [
       "                                                     \n",
       "Subscription ID  7ee37d15-c46a-4653-9184-c5d6f9009da9\n",
       "Workspace        ex-1-workspace                      \n",
       "Resource Group   example-1                           \n",
       "Location         eastus2                             \n",
       "Experiment Name  Heart_prediction_AutoML             "
      ]
     },
     "execution_count": 2,
     "metadata": {},
     "output_type": "execute_result"
    }
   ],
   "source": [
    "ws = Workspace.from_config()\n",
    "experiment_name = 'Heart_prediction_AutoML'\n",
    "\n",
    "experiment=Experiment(ws, experiment_name)\n",
    "\n",
    "output = {}\n",
    "output['Subscription ID'] = ws.subscription_id\n",
    "output['Workspace'] = ws.name\n",
    "output['Resource Group'] = ws.resource_group\n",
    "output['Location'] = ws.location\n",
    "output['Experiment Name'] = experiment.name\n",
    "pd.set_option('display.max_colwidth', -1)\n",
    "outputDf = pd.DataFrame(data = output, index = [''])\n",
    "outputDf.T"
   ]
  },
  {
   "cell_type": "code",
   "execution_count": 3,
   "id": "955ed905",
   "metadata": {},
   "outputs": [],
   "source": [
    "from azureml.core.compute import ComputeTarget, AmlCompute\n",
    "from azureml.core.compute_target import ComputeTargetException\n",
    "\n",
    "# connecting to our CPU Cluster\n",
    "cpu_cluster_name = \"my-compute\"\n",
    "compute_target = ComputeTarget(workspace=ws, name=cpu_cluster_name)"
   ]
  },
  {
   "cell_type": "code",
   "execution_count": 4,
   "id": "1ff93058",
   "metadata": {},
   "outputs": [],
   "source": [
    "# initalizing our data into the database\n",
    "from azureml.core import Workspace, Dataset, Datastore\n",
    "\n",
    "datastore = Datastore.get_default(ws)\n",
    "my_datastore_name = 'workspaceblobstore'\n",
    "my_datastore = Datastore.get(ws, my_datastore_name)\n",
    "\n",
    "\n",
    "dataset_name_train = \"Heart_data_train\" # the dataset you uploaded into Azure\n",
    "train_data = Dataset.get_by_name(ws, dataset_name_train, version='latest')\n",
    "train_data = train_data.to_pandas_dataframe()\n",
    "\n",
    "\n",
    "dataset_name_test = \"Heart_data_test\" # the dataset you uploaded into Azure\n",
    "test_data = Dataset.get_by_name(ws, dataset_name_test, version='latest')\n",
    "test_data = test_data.to_pandas_dataframe()"
   ]
  },
  {
   "cell_type": "code",
   "execution_count": 5,
   "id": "862e3bed",
   "metadata": {},
   "outputs": [
    {
     "name": "stdout",
     "output_type": "stream",
     "text": [
      "<class 'pandas.core.frame.DataFrame'>\n",
      "RangeIndex: 209 entries, 0 to 208\n",
      "Data columns (total 19 columns):\n",
      "Column1                     209 non-null int64\n",
      "age                         209 non-null float64\n",
      "anaemia                     209 non-null object\n",
      "creatinine_phosphokinase    209 non-null int64\n",
      "diabetes                    209 non-null object\n",
      "ejection_fraction           209 non-null int64\n",
      "high_blood_pressure         209 non-null object\n",
      "platelets                   209 non-null float64\n",
      "serum_creatinine            209 non-null float64\n",
      "serum_sodium                209 non-null int64\n",
      "sex                         209 non-null object\n",
      "smoking                     209 non-null object\n",
      "time                        209 non-null int64\n",
      "age_cat                     209 non-null object\n",
      "age_death_event             209 non-null object\n",
      "ejection_death_event        209 non-null object\n",
      "platelets_death_event       209 non-null object\n",
      "serum_death_event           209 non-null object\n",
      "y_train                     209 non-null bool\n",
      "dtypes: bool(1), float64(3), int64(5), object(10)\n",
      "memory usage: 29.7+ KB\n"
     ]
    }
   ],
   "source": [
    "train_data.info()"
   ]
  },
  {
   "cell_type": "code",
   "execution_count": 6,
   "id": "cc241bcf",
   "metadata": {},
   "outputs": [
    {
     "name": "stdout",
     "output_type": "stream",
     "text": [
      "<class 'pandas.core.frame.DataFrame'>\n",
      "RangeIndex: 90 entries, 0 to 89\n",
      "Data columns (total 18 columns):\n",
      "Column1                     90 non-null int64\n",
      "age                         90 non-null float64\n",
      "anaemia                     90 non-null object\n",
      "creatinine_phosphokinase    90 non-null int64\n",
      "diabetes                    90 non-null object\n",
      "ejection_fraction           90 non-null int64\n",
      "high_blood_pressure         90 non-null object\n",
      "platelets                   90 non-null float64\n",
      "serum_creatinine            90 non-null float64\n",
      "serum_sodium                90 non-null int64\n",
      "sex                         90 non-null object\n",
      "smoking                     90 non-null object\n",
      "time                        90 non-null int64\n",
      "age_cat                     90 non-null object\n",
      "age_death_event             90 non-null object\n",
      "ejection_death_event        90 non-null object\n",
      "platelets_death_event       90 non-null object\n",
      "serum_death_event           90 non-null object\n",
      "dtypes: float64(3), int64(5), object(10)\n",
      "memory usage: 12.8+ KB\n"
     ]
    }
   ],
   "source": [
    "test_data.info()"
   ]
  },
  {
   "cell_type": "code",
   "execution_count": 7,
   "id": "ef547866",
   "metadata": {},
   "outputs": [],
   "source": [
    "train_data = train_data.drop('Column1', axis = 1)\n",
    "test_data = test_data.drop('Column1', axis = 1)"
   ]
  },
  {
   "cell_type": "code",
   "execution_count": 8,
   "id": "abb2f31c",
   "metadata": {},
   "outputs": [
    {
     "name": "stdout",
     "output_type": "stream",
     "text": [
      "<class 'pandas.core.frame.DataFrame'>\n",
      "RangeIndex: 209 entries, 0 to 208\n",
      "Data columns (total 18 columns):\n",
      "age                         209 non-null float64\n",
      "anaemia                     209 non-null object\n",
      "creatinine_phosphokinase    209 non-null int64\n",
      "diabetes                    209 non-null object\n",
      "ejection_fraction           209 non-null int64\n",
      "high_blood_pressure         209 non-null object\n",
      "platelets                   209 non-null float64\n",
      "serum_creatinine            209 non-null float64\n",
      "serum_sodium                209 non-null int64\n",
      "sex                         209 non-null object\n",
      "smoking                     209 non-null object\n",
      "time                        209 non-null int64\n",
      "age_cat                     209 non-null object\n",
      "age_death_event             209 non-null object\n",
      "ejection_death_event        209 non-null object\n",
      "platelets_death_event       209 non-null object\n",
      "serum_death_event           209 non-null object\n",
      "y_train                     209 non-null bool\n",
      "dtypes: bool(1), float64(3), int64(4), object(10)\n",
      "memory usage: 28.1+ KB\n"
     ]
    }
   ],
   "source": [
    "train_data.head()\n",
    "train_data.info()"
   ]
  },
  {
   "cell_type": "code",
   "execution_count": 9,
   "id": "cd0363a6",
   "metadata": {},
   "outputs": [
    {
     "name": "stdout",
     "output_type": "stream",
     "text": [
      "<class 'pandas.core.frame.DataFrame'>\n",
      "RangeIndex: 90 entries, 0 to 89\n",
      "Data columns (total 17 columns):\n",
      "age                         90 non-null float64\n",
      "anaemia                     90 non-null object\n",
      "creatinine_phosphokinase    90 non-null int64\n",
      "diabetes                    90 non-null object\n",
      "ejection_fraction           90 non-null int64\n",
      "high_blood_pressure         90 non-null object\n",
      "platelets                   90 non-null float64\n",
      "serum_creatinine            90 non-null float64\n",
      "serum_sodium                90 non-null int64\n",
      "sex                         90 non-null object\n",
      "smoking                     90 non-null object\n",
      "time                        90 non-null int64\n",
      "age_cat                     90 non-null object\n",
      "age_death_event             90 non-null object\n",
      "ejection_death_event        90 non-null object\n",
      "platelets_death_event       90 non-null object\n",
      "serum_death_event           90 non-null object\n",
      "dtypes: float64(3), int64(4), object(10)\n",
      "memory usage: 12.1+ KB\n"
     ]
    }
   ],
   "source": [
    "test_data.head()\n",
    "test_data.info()"
   ]
  },
  {
   "cell_type": "code",
   "execution_count": 10,
   "id": "b5aaa40b",
   "metadata": {},
   "outputs": [
    {
     "name": "stderr",
     "output_type": "stream",
     "text": [
      "Method register_pandas_dataframe: This is an experimental method, and may change at any time. Please see https://aka.ms/azuremlexperimental for more information.\n"
     ]
    },
    {
     "name": "stdout",
     "output_type": "stream",
     "text": [
      "Validating arguments.\n",
      "Arguments validated.\n",
      "Successfully obtained datastore reference and path.\n",
      "Uploading file to managed-dataset/bd39f776-7e46-4ee5-ac77-06a9c6a3cbfd/\n",
      "Successfully uploaded file to datastore.\n",
      "Creating and registering a new dataset.\n"
     ]
    },
    {
     "name": "stderr",
     "output_type": "stream",
     "text": [
      "Method register_pandas_dataframe: This is an experimental method, and may change at any time. Please see https://aka.ms/azuremlexperimental for more information.\n"
     ]
    },
    {
     "name": "stdout",
     "output_type": "stream",
     "text": [
      "Successfully created and registered a new dataset.\n",
      "Validating arguments.\n",
      "Arguments validated.\n",
      "Successfully obtained datastore reference and path.\n",
      "Uploading file to managed-dataset/9b7caea0-e22c-4276-b9af-bb9c7addb062/\n",
      "Successfully uploaded file to datastore.\n",
      "Creating and registering a new dataset.\n",
      "Successfully created and registered a new dataset.\n"
     ]
    },
    {
     "data": {
      "text/plain": [
       "{\n",
       "  \"source\": [\n",
       "    \"('workspaceblobstore', 'managed-dataset/9b7caea0-e22c-4276-b9af-bb9c7addb062/')\"\n",
       "  ],\n",
       "  \"definition\": [\n",
       "    \"GetDatastoreFiles\",\n",
       "    \"ReadParquetFile\",\n",
       "    \"DropColumns\"\n",
       "  ],\n",
       "  \"registration\": {\n",
       "    \"id\": \"9bdcdbf1-b41c-4a66-b1c3-d87359ca752f\",\n",
       "    \"name\": \"Heart_data_test_1\",\n",
       "    \"version\": 1,\n",
       "    \"workspace\": \"Workspace.create(name='ex-1-workspace', subscription_id='7ee37d15-c46a-4653-9184-c5d6f9009da9', resource_group='example-1')\"\n",
       "  }\n",
       "}"
      ]
     },
     "execution_count": 10,
     "metadata": {},
     "output_type": "execute_result"
    }
   ],
   "source": [
    "from azureml.core import Workspace, Dataset, Datastore\n",
    "\n",
    "datastore = Datastore.get_default(ws)\n",
    "my_datastore_name = 'workspaceblobstore'\n",
    "my_datastore = Datastore.get(ws, my_datastore_name)\n",
    "\n",
    "Dataset.Tabular.register_pandas_dataframe(train_data,datastore,'Heart_data_train_1')\n",
    "Dataset.Tabular.register_pandas_dataframe(test_data,datastore,'Heart_data_test_1')"
   ]
  },
  {
   "cell_type": "code",
   "execution_count": 11,
   "id": "e27acc3a",
   "metadata": {},
   "outputs": [
    {
     "name": "stdout",
     "output_type": "stream",
     "text": [
      "<class 'pandas.core.frame.DataFrame'>\n",
      "RangeIndex: 209 entries, 0 to 208\n",
      "Data columns (total 18 columns):\n",
      "age                         209 non-null float64\n",
      "anaemia                     209 non-null object\n",
      "creatinine_phosphokinase    209 non-null int64\n",
      "diabetes                    209 non-null object\n",
      "ejection_fraction           209 non-null int64\n",
      "high_blood_pressure         209 non-null object\n",
      "platelets                   209 non-null float64\n",
      "serum_creatinine            209 non-null float64\n",
      "serum_sodium                209 non-null int64\n",
      "sex                         209 non-null object\n",
      "smoking                     209 non-null object\n",
      "time                        209 non-null int64\n",
      "age_cat                     209 non-null object\n",
      "age_death_event             209 non-null object\n",
      "ejection_death_event        209 non-null object\n",
      "platelets_death_event       209 non-null object\n",
      "serum_death_event           209 non-null object\n",
      "y_train                     209 non-null bool\n",
      "dtypes: bool(1), float64(3), int64(4), object(10)\n",
      "memory usage: 28.1+ KB\n"
     ]
    }
   ],
   "source": [
    "# open the train data\n",
    "dataset_name = \"Heart_data_train_1\" # the dataset you uploaded into Azure\n",
    "train_data = Dataset.get_by_name(ws, dataset_name, version='latest')\n",
    "train_data.to_pandas_dataframe().info()"
   ]
  },
  {
   "cell_type": "code",
   "execution_count": 12,
   "id": "e4a6d1e7",
   "metadata": {},
   "outputs": [],
   "source": [
    "label_column_name = 'y_train'\n",
    "\n",
    "automl_settings = {\n",
    "    \"n_cross_validations\": 3,\n",
    "    \"primary_metric\": 'AUC_weighted',\n",
    "    \"enable_early_stopping\": True,\n",
    "    \"max_concurrent_iterations\": 2, # This is a limit for testing purpose, please increase it as per cluster size\n",
    "    \"experiment_timeout_hours\": 0.25, # This is a time limit for testing purposes, remove it for real use cases, this will drastically limit ablity to find the best model possible\n",
    "    \"verbosity\": logging.INFO,\n",
    "}\n",
    "\n",
    "automl_config = AutoMLConfig(task = 'classification',\n",
    "                             debug_log = 'automl_errors.log',\n",
    "                             compute_target = compute_target,\n",
    "                             training_data = train_data,\n",
    "                             label_column_name = label_column_name,\n",
    "                             enable_stack_ensemble=True,\n",
    "                             enable_voting_ensemble=True,\n",
    "                             **automl_settings\n",
    "                            )"
   ]
  },
  {
   "cell_type": "code",
   "execution_count": 13,
   "id": "d356f89e",
   "metadata": {},
   "outputs": [
    {
     "name": "stdout",
     "output_type": "stream",
     "text": [
      "Submitting remote run.\n"
     ]
    },
    {
     "data": {
      "text/html": [
       "<table style=\"width:100%\"><tr><th>Experiment</th><th>Id</th><th>Type</th><th>Status</th><th>Details Page</th><th>Docs Page</th></tr><tr><td>Heart_prediction_AutoML</td><td>AutoML_26088775-977d-493c-87b1-c1d800a399a7</td><td>automl</td><td>NotStarted</td><td><a href=\"https://ml.azure.com/runs/AutoML_26088775-977d-493c-87b1-c1d800a399a7?wsid=/subscriptions/7ee37d15-c46a-4653-9184-c5d6f9009da9/resourcegroups/example-1/workspaces/ex-1-workspace&amp;tid=78aac226-2f03-4b4d-9037-b46d56c55210\" target=\"_blank\" rel=\"noopener\">Link to Azure Machine Learning studio</a></td><td><a href=\"https://docs.microsoft.com/en-us/python/api/overview/azure/ml/intro?view=azure-ml-py\" target=\"_blank\" rel=\"noopener\">Link to Documentation</a></td></tr></table>"
      ],
      "text/plain": [
       "<IPython.core.display.HTML object>"
      ]
     },
     "metadata": {},
     "output_type": "display_data"
    }
   ],
   "source": [
    "remote_run = experiment.submit(automl_config, show_output = False)"
   ]
  },
  {
   "cell_type": "code",
   "execution_count": 14,
   "id": "fda986be",
   "metadata": {},
   "outputs": [
    {
     "data": {
      "application/vnd.jupyter.widget-view+json": {
       "model_id": "eefa9a79be014ca6bd68a6941ff651a9",
       "version_major": 2,
       "version_minor": 0
      },
      "text/plain": [
       "_AutoMLWidget(widget_settings={'childWidgetDisplay': 'popup', 'send_telemetry': False, 'log_level': 'INFO', 's…"
      ]
     },
     "metadata": {},
     "output_type": "display_data"
    },
    {
     "data": {
      "application/aml.mini.widget.v1": "{\"status\": \"Completed\", \"workbench_run_details_uri\": \"https://ml.azure.com/runs/AutoML_26088775-977d-493c-87b1-c1d800a399a7?wsid=/subscriptions/7ee37d15-c46a-4653-9184-c5d6f9009da9/resourcegroups/example-1/workspaces/ex-1-workspace&tid=78aac226-2f03-4b4d-9037-b46d56c55210\", \"run_id\": \"AutoML_26088775-977d-493c-87b1-c1d800a399a7\", \"run_properties\": {\"run_id\": \"AutoML_26088775-977d-493c-87b1-c1d800a399a7\", \"created_utc\": \"2021-10-27T01:38:10.375431Z\", \"properties\": {\"num_iterations\": \"1000\", \"training_type\": \"TrainFull\", \"acquisition_function\": \"EI\", \"primary_metric\": \"AUC_weighted\", \"train_split\": \"0\", \"acquisition_parameter\": \"0\", \"num_cross_validation\": \"3\", \"target\": \"my-compute\", \"AMLSettingsJsonString\": \"{\\\"path\\\":null,\\\"name\\\":\\\"Heart_prediction_AutoML\\\",\\\"subscription_id\\\":\\\"7ee37d15-c46a-4653-9184-c5d6f9009da9\\\",\\\"resource_group\\\":\\\"example-1\\\",\\\"workspace_name\\\":\\\"ex-1-workspace\\\",\\\"region\\\":\\\"eastus2\\\",\\\"compute_target\\\":\\\"my-compute\\\",\\\"spark_service\\\":null,\\\"azure_service\\\":\\\"remote\\\",\\\"many_models\\\":false,\\\"pipeline_fetch_max_batch_size\\\":1,\\\"enable_batch_run\\\":false,\\\"enable_run_restructure\\\":false,\\\"start_auxiliary_runs_before_parent_complete\\\":false,\\\"enable_code_generation\\\":false,\\\"iterations\\\":1000,\\\"primary_metric\\\":\\\"AUC_weighted\\\",\\\"task_type\\\":\\\"classification\\\",\\\"data_script\\\":null,\\\"test_size\\\":0.0,\\\"test_include_predictions_only\\\":false,\\\"validation_size\\\":0.0,\\\"n_cross_validations\\\":3,\\\"y_min\\\":null,\\\"y_max\\\":null,\\\"num_classes\\\":null,\\\"featurization\\\":\\\"auto\\\",\\\"_ignore_package_version_incompatibilities\\\":false,\\\"is_timeseries\\\":false,\\\"max_cores_per_iteration\\\":1,\\\"max_concurrent_iterations\\\":2,\\\"iteration_timeout_minutes\\\":null,\\\"mem_in_mb\\\":null,\\\"enforce_time_on_windows\\\":false,\\\"experiment_timeout_minutes\\\":15,\\\"experiment_exit_score\\\":null,\\\"whitelist_models\\\":null,\\\"blacklist_algos\\\":[\\\"TensorFlowLinearClassifier\\\",\\\"TensorFlowDNN\\\"],\\\"supported_models\\\":[\\\"LinearSVM\\\",\\\"SGD\\\",\\\"TensorFlowDNN\\\",\\\"RandomForest\\\",\\\"BernoulliNaiveBayes\\\",\\\"ExtremeRandomTrees\\\",\\\"TensorFlowLinearClassifier\\\",\\\"DecisionTree\\\",\\\"XGBoostClassifier\\\",\\\"AveragedPerceptronClassifier\\\",\\\"MultinomialNaiveBayes\\\",\\\"LogisticRegression\\\",\\\"GradientBoosting\\\",\\\"LightGBM\\\",\\\"SVM\\\",\\\"KNN\\\"],\\\"private_models\\\":[],\\\"auto_blacklist\\\":true,\\\"blacklist_samples_reached\\\":false,\\\"exclude_nan_labels\\\":true,\\\"verbosity\\\":20,\\\"_debug_log\\\":\\\"azureml_automl.log\\\",\\\"show_warnings\\\":false,\\\"model_explainability\\\":true,\\\"service_url\\\":null,\\\"sdk_url\\\":null,\\\"sdk_packages\\\":null,\\\"enable_onnx_compatible_models\\\":false,\\\"enable_split_onnx_featurizer_estimator_models\\\":false,\\\"vm_type\\\":\\\"STANDARD_DS3_V2\\\",\\\"telemetry_verbosity\\\":20,\\\"send_telemetry\\\":true,\\\"enable_dnn\\\":false,\\\"scenario\\\":\\\"SDK-1.13.0\\\",\\\"environment_label\\\":null,\\\"save_mlflow\\\":false,\\\"force_text_dnn\\\":false,\\\"enable_feature_sweeping\\\":true,\\\"enable_early_stopping\\\":true,\\\"early_stopping_n_iters\\\":10,\\\"metrics\\\":null,\\\"enable_metric_confidence\\\":false,\\\"enable_ensembling\\\":true,\\\"enable_stack_ensembling\\\":true,\\\"ensemble_iterations\\\":15,\\\"enable_tf\\\":false,\\\"enable_subsampling\\\":null,\\\"subsample_seed\\\":null,\\\"enable_nimbusml\\\":false,\\\"enable_streaming\\\":false,\\\"force_streaming\\\":false,\\\"track_child_runs\\\":true,\\\"allowed_private_models\\\":[],\\\"label_column_name\\\":\\\"y_train\\\",\\\"weight_column_name\\\":null,\\\"cv_split_column_names\\\":null,\\\"positive_label\\\":null,\\\"enable_local_managed\\\":false,\\\"_local_managed_run_id\\\":null,\\\"cost_mode\\\":1,\\\"lag_length\\\":0,\\\"metric_operation\\\":\\\"maximize\\\",\\\"preprocess\\\":true}\", \"DataPrepJsonString\": \"{\\\\\\\"training_data\\\\\\\": {\\\\\\\"datasetId\\\\\\\": \\\\\\\"6f6bb62d-8f57-4bc2-a006-a1c71da5dab8\\\\\\\"}, \\\\\\\"datasets\\\\\\\": 0}\", \"EnableSubsampling\": null, \"runTemplate\": \"AutoML\", \"azureml.runsource\": \"automl\", \"display_task_type\": \"classification\", \"dependencies_versions\": \"{\\\"azureml-widgets\\\": \\\"1.34.0\\\", \\\"azureml-train\\\": \\\"1.34.0\\\", \\\"azureml-train-restclients-hyperdrive\\\": \\\"1.34.0\\\", \\\"azureml-train-core\\\": \\\"1.34.0\\\", \\\"azureml-train-automl\\\": \\\"1.34.0\\\", \\\"azureml-train-automl-runtime\\\": \\\"1.34.0\\\", \\\"azureml-train-automl-client\\\": \\\"1.34.0\\\", \\\"azureml-tensorboard\\\": \\\"1.34.0\\\", \\\"azureml-telemetry\\\": \\\"1.34.0\\\", \\\"azureml-sdk\\\": \\\"1.34.0\\\", \\\"azureml-samples\\\": \\\"0+unknown\\\", \\\"azureml-responsibleai\\\": \\\"1.34.0\\\", \\\"azureml-pipeline\\\": \\\"1.34.0\\\", \\\"azureml-pipeline-steps\\\": \\\"1.34.0\\\", \\\"azureml-pipeline-core\\\": \\\"1.34.0\\\", \\\"azureml-opendatasets\\\": \\\"1.34.0\\\", \\\"azureml-mlflow\\\": \\\"1.34.0\\\", \\\"azureml-interpret\\\": \\\"1.34.0\\\", \\\"azureml-inference-server-http\\\": \\\"0.3.1\\\", \\\"azureml-explain-model\\\": \\\"1.34.0\\\", \\\"azureml-defaults\\\": \\\"1.34.0\\\", \\\"azureml-dataset-runtime\\\": \\\"1.34.0\\\", \\\"azureml-dataprep\\\": \\\"2.22.2\\\", \\\"azureml-dataprep-rslex\\\": \\\"1.20.1\\\", \\\"azureml-dataprep-native\\\": \\\"38.0.0\\\", \\\"azureml-datadrift\\\": \\\"1.34.0\\\", \\\"azureml-core\\\": \\\"1.34.0\\\", \\\"azureml-contrib-services\\\": \\\"1.34.0\\\", \\\"azureml-contrib-server\\\": \\\"1.34.0\\\", \\\"azureml-contrib-reinforcementlearning\\\": \\\"1.34.0\\\", \\\"azureml-contrib-pipeline-steps\\\": \\\"1.34.0\\\", \\\"azureml-contrib-notebook\\\": \\\"1.34.0\\\", \\\"azureml-contrib-fairness\\\": \\\"1.34.0\\\", \\\"azureml-contrib-dataset\\\": \\\"1.34.0\\\", \\\"azureml-contrib-automl-pipeline-steps\\\": \\\"1.34.0\\\", \\\"azureml-cli-common\\\": \\\"1.34.0\\\", \\\"azureml-automl-runtime\\\": \\\"1.34.0\\\", \\\"azureml-automl-dnn-nlp\\\": \\\"1.34.0\\\", \\\"azureml-automl-core\\\": \\\"1.34.0\\\", \\\"azureml-accel-models\\\": \\\"1.34.0\\\"}\", \"_aml_system_scenario_identification\": \"Remote.Parent\", \"ClientType\": \"SDK\", \"environment_cpu_name\": \"AzureML-AutoML\", \"environment_cpu_label\": \"prod\", \"environment_gpu_name\": \"AzureML-AutoML-GPU\", \"environment_gpu_label\": \"prod\", \"root_attribution\": \"automl\", \"attribution\": \"AutoML\", \"Orchestrator\": \"AutoML\", \"CancelUri\": \"https://eastus2.api.azureml.ms/jasmine/v1.0/subscriptions/7ee37d15-c46a-4653-9184-c5d6f9009da9/resourceGroups/example-1/providers/Microsoft.MachineLearningServices/workspaces/ex-1-workspace/experimentids/e112d65a-045a-456e-9187-83e8f8465e3b/cancel/AutoML_26088775-977d-493c-87b1-c1d800a399a7\", \"ClientSdkVersion\": \"1.34.1\", \"snapshotId\": \"00000000-0000-0000-0000-000000000000\", \"SetupRunId\": \"AutoML_26088775-977d-493c-87b1-c1d800a399a7_setup\", \"SetupRunContainerId\": \"dcid.AutoML_26088775-977d-493c-87b1-c1d800a399a7_setup\", \"FeaturizationRunJsonPath\": \"featurizer_container.json\", \"FeaturizationRunId\": \"AutoML_26088775-977d-493c-87b1-c1d800a399a7_featurize\", \"ProblemInfoJsonString\": \"{\\\"dataset_num_categorical\\\": 0, \\\"is_sparse\\\": true, \\\"subsampling\\\": false, \\\"has_extra_col\\\": true, \\\"dataset_classes\\\": 2, \\\"dataset_features\\\": 31, \\\"dataset_samples\\\": 209, \\\"single_frequency_class_detected\\\": false}\", \"ModelExplainRunId\": \"AutoML_26088775-977d-493c-87b1-c1d800a399a7_ModelExplain\"}, \"tags\": {\"model_explain_run\": \"best_run\", \"_aml_system_azureml.automlComponent\": \"AutoML\", \"pipeline_id\": \"\", \"score\": \"\", \"predicted_cost\": \"\", \"fit_time\": \"\", \"training_percent\": \"\", \"iteration\": \"\", \"run_preprocessor\": \"\", \"run_algorithm\": \"\", \"dynamic_whitelisting_iterations\": \"<25>;<30>;\", \"_aml_system_azureml.automl_early_exit_message\": \"No scores improved over last 20 iterations, so experiment stopped early. This early stopping behavior can be disabled by setting enable_early_stopping = False in AutoMLConfig for notebook/python SDK runs.\", \"automl_best_child_run_id\": \"AutoML_26088775-977d-493c-87b1-c1d800a399a7_32\", \"model_explain_best_run_child_id\": \"AutoML_26088775-977d-493c-87b1-c1d800a399a7_32\"}, \"end_time_utc\": \"2021-10-27T01:56:22.763741Z\", \"status\": \"Completed\", \"log_files\": {}, \"log_groups\": [], \"run_duration\": \"0:18:12\", \"run_number\": \"146\", \"run_queued_details\": {\"status\": \"Completed\", \"details\": null}}, \"child_runs\": [{\"run_id\": \"AutoML_26088775-977d-493c-87b1-c1d800a399a7_setup\", \"run_number\": 147, \"metric\": null, \"status\": \"Completed\", \"run_type\": \"azureml.scriptrun\", \"training_percent\": null, \"start_time\": \"2021-10-27T01:38:31.150892Z\", \"end_time\": \"2021-10-27T01:39:17.957768Z\", \"created_time\": \"2021-10-27T01:38:22.067781Z\", \"created_time_dt\": \"2021-10-27T01:38:22.067781Z\", \"duration\": \"0:00:55\", \"iteration\": null, \"goal\": null, \"run_name\": \"Completed\", \"run_properties\": null}, {\"run_id\": \"AutoML_26088775-977d-493c-87b1-c1d800a399a7_featurize\", \"run_number\": 148, \"metric\": null, \"status\": \"Completed\", \"run_type\": \"automl.featurization\", \"training_percent\": null, \"start_time\": \"2021-10-27T01:39:18.706608Z\", \"end_time\": \"2021-10-27T01:40:52.78474Z\", \"created_time\": \"2021-10-27T01:39:18.375924Z\", \"created_time_dt\": \"2021-10-27T01:39:18.375924Z\", \"duration\": \"0:01:34\", \"iteration\": null, \"goal\": null, \"run_name\": \"Completed\", \"run_properties\": null}, {\"run_id\": \"AutoML_26088775-977d-493c-87b1-c1d800a399a7_0\", \"run_number\": 150, \"metric\": null, \"status\": \"Completed\", \"run_type\": \"azureml.scriptrun\", \"training_percent\": \"100\", \"start_time\": \"2021-10-27T01:41:05.425969Z\", \"end_time\": \"2021-10-27T01:41:42.992551Z\", \"created_time\": \"2021-10-27T01:40:53.095274Z\", \"created_time_dt\": \"2021-10-27T01:40:53.095274Z\", \"duration\": \"0:00:49\", \"iteration\": \"0\", \"goal\": \"AUC_weighted_max\", \"run_name\": \"MaxAbsScaler, LightGBM\", \"run_properties\": \"copy=True\", \"primary_metric\": 0.88143933, \"best_metric\": 0.88143933}, {\"run_id\": \"AutoML_26088775-977d-493c-87b1-c1d800a399a7_1\", \"run_number\": 151, \"metric\": null, \"status\": \"Completed\", \"run_type\": \"azureml.scriptrun\", \"training_percent\": \"100\", \"start_time\": \"2021-10-27T01:41:05.63917Z\", \"end_time\": \"2021-10-27T01:41:47.068164Z\", \"created_time\": \"2021-10-27T01:40:53.088496Z\", \"created_time_dt\": \"2021-10-27T01:40:53.088496Z\", \"duration\": \"0:00:53\", \"iteration\": \"1\", \"goal\": \"AUC_weighted_max\", \"run_name\": \"MaxAbsScaler, XGBoostClassifier\", \"run_properties\": \"copy=True\", \"primary_metric\": 0.88110864, \"best_metric\": 0.88143933}, {\"run_id\": \"AutoML_26088775-977d-493c-87b1-c1d800a399a7_2\", \"run_number\": 152, \"metric\": null, \"status\": \"Completed\", \"run_type\": \"azureml.scriptrun\", \"training_percent\": \"100\", \"start_time\": \"2021-10-27T01:41:54.038037Z\", \"end_time\": \"2021-10-27T01:42:30.249192Z\", \"created_time\": \"2021-10-27T01:41:43.833467Z\", \"created_time_dt\": \"2021-10-27T01:41:43.833467Z\", \"duration\": \"0:00:46\", \"iteration\": \"2\", \"goal\": \"AUC_weighted_max\", \"run_name\": \"MaxAbsScaler, ExtremeRandomTrees\", \"run_properties\": \"copy=True\", \"primary_metric\": 0.87707679, \"best_metric\": 0.88143933}, {\"run_id\": \"AutoML_26088775-977d-493c-87b1-c1d800a399a7_3\", \"run_number\": 153, \"metric\": null, \"status\": \"Completed\", \"run_type\": \"azureml.scriptrun\", \"training_percent\": \"100\", \"start_time\": \"2021-10-27T01:41:53.123921Z\", \"end_time\": \"2021-10-27T01:42:32.631391Z\", \"created_time\": \"2021-10-27T01:41:48.041797Z\", \"created_time_dt\": \"2021-10-27T01:41:48.041797Z\", \"duration\": \"0:00:44\", \"iteration\": \"3\", \"goal\": \"AUC_weighted_max\", \"run_name\": \"MaxAbsScaler, RandomForest\", \"run_properties\": \"copy=True\", \"primary_metric\": 0.89135815, \"best_metric\": 0.89135815}, {\"run_id\": \"AutoML_26088775-977d-493c-87b1-c1d800a399a7_4\", \"run_number\": 154, \"metric\": null, \"status\": \"Completed\", \"run_type\": \"azureml.scriptrun\", \"training_percent\": \"100\", \"start_time\": \"2021-10-27T01:42:40.202171Z\", \"end_time\": \"2021-10-27T01:43:16.956796Z\", \"created_time\": \"2021-10-27T01:42:32.07367Z\", \"created_time_dt\": \"2021-10-27T01:42:32.07367Z\", \"duration\": \"0:00:44\", \"iteration\": \"4\", \"goal\": \"AUC_weighted_max\", \"run_name\": \"StandardScalerWrapper, LightGBM\", \"run_properties\": \"\\n    copy=True,\\n    with_mean=False,\\n    with_std=True\\n\", \"primary_metric\": 0.87714039, \"best_metric\": 0.89135815}, {\"run_id\": \"AutoML_26088775-977d-493c-87b1-c1d800a399a7_5\", \"run_number\": 155, \"metric\": null, \"status\": \"Completed\", \"run_type\": \"azureml.scriptrun\", \"training_percent\": \"100\", \"start_time\": \"2021-10-27T01:42:41.287284Z\", \"end_time\": \"2021-10-27T01:43:18.693004Z\", \"created_time\": \"2021-10-27T01:42:34.588046Z\", \"created_time_dt\": \"2021-10-27T01:42:34.588046Z\", \"duration\": \"0:00:44\", \"iteration\": \"5\", \"goal\": \"AUC_weighted_max\", \"run_name\": \"SparseNormalizer, XGBoostClassifier\", \"run_properties\": \"copy=True, norm='max'\", \"primary_metric\": 0.84112812, \"best_metric\": 0.89135815}, {\"run_id\": \"AutoML_26088775-977d-493c-87b1-c1d800a399a7_6\", \"run_number\": 156, \"metric\": null, \"status\": \"Completed\", \"run_type\": \"azureml.scriptrun\", \"training_percent\": \"100\", \"start_time\": \"2021-10-27T01:43:30.085406Z\", \"end_time\": \"2021-10-27T01:44:08.639984Z\", \"created_time\": \"2021-10-27T01:43:18.609801Z\", \"created_time_dt\": \"2021-10-27T01:43:18.609801Z\", \"duration\": \"0:00:50\", \"iteration\": \"6\", \"goal\": \"AUC_weighted_max\", \"run_name\": \"SparseNormalizer, RandomForest\", \"run_properties\": \"copy=True, norm='l2'\", \"primary_metric\": 0.87570135, \"best_metric\": 0.89135815}, {\"run_id\": \"AutoML_26088775-977d-493c-87b1-c1d800a399a7_7\", \"run_number\": 157, \"metric\": null, \"status\": \"Completed\", \"run_type\": \"azureml.scriptrun\", \"training_percent\": \"100\", \"start_time\": \"2021-10-27T01:43:31.007535Z\", \"end_time\": \"2021-10-27T01:44:06.88301Z\", \"created_time\": \"2021-10-27T01:43:21.164982Z\", \"created_time_dt\": \"2021-10-27T01:43:21.164982Z\", \"duration\": \"0:00:45\", \"iteration\": \"7\", \"goal\": \"AUC_weighted_max\", \"run_name\": \"StandardScalerWrapper, XGBoostClassifier\", \"run_properties\": \"\\n    copy=True,\\n    with_mean=False,\\n    with_std=False\\n\", \"primary_metric\": 0.86781935, \"best_metric\": 0.89135815}, {\"run_id\": \"AutoML_26088775-977d-493c-87b1-c1d800a399a7_8\", \"run_number\": 158, \"metric\": null, \"status\": \"Completed\", \"run_type\": \"azureml.scriptrun\", \"training_percent\": \"100\", \"start_time\": \"2021-10-27T01:44:16.299616Z\", \"end_time\": \"2021-10-27T01:44:53.463394Z\", \"created_time\": \"2021-10-27T01:44:08.59555Z\", \"created_time_dt\": \"2021-10-27T01:44:08.59555Z\", \"duration\": \"0:00:44\", \"iteration\": \"8\", \"goal\": \"AUC_weighted_max\", \"run_name\": \"SparseNormalizer, XGBoostClassifier\", \"run_properties\": \"copy=True, norm='max'\", \"primary_metric\": 0.85076712, \"best_metric\": 0.89135815}, {\"run_id\": \"AutoML_26088775-977d-493c-87b1-c1d800a399a7_9\", \"run_number\": 159, \"metric\": null, \"status\": \"Completed\", \"run_type\": \"azureml.scriptrun\", \"training_percent\": \"100\", \"start_time\": \"2021-10-27T01:44:17.880317Z\", \"end_time\": \"2021-10-27T01:44:55.579396Z\", \"created_time\": \"2021-10-27T01:44:11.159071Z\", \"created_time_dt\": \"2021-10-27T01:44:11.159071Z\", \"duration\": \"0:00:44\", \"iteration\": \"9\", \"goal\": \"AUC_weighted_max\", \"run_name\": \"MaxAbsScaler, RandomForest\", \"run_properties\": \"copy=True\", \"primary_metric\": 0.86198689, \"best_metric\": 0.89135815}, {\"run_id\": \"AutoML_26088775-977d-493c-87b1-c1d800a399a7_10\", \"run_number\": 160, \"metric\": null, \"status\": \"Completed\", \"run_type\": \"azureml.scriptrun\", \"training_percent\": \"100\", \"start_time\": \"2021-10-27T01:45:04.089772Z\", \"end_time\": \"2021-10-27T01:45:41.431846Z\", \"created_time\": \"2021-10-27T01:44:55.346376Z\", \"created_time_dt\": \"2021-10-27T01:44:55.346376Z\", \"duration\": \"0:00:46\", \"iteration\": \"10\", \"goal\": \"AUC_weighted_max\", \"run_name\": \"SparseNormalizer, LightGBM\", \"run_properties\": \"copy=True, norm='l1'\", \"primary_metric\": 0.87807067, \"best_metric\": 0.89135815}, {\"run_id\": \"AutoML_26088775-977d-493c-87b1-c1d800a399a7_11\", \"run_number\": 161, \"metric\": null, \"status\": \"Completed\", \"run_type\": \"azureml.scriptrun\", \"training_percent\": \"100\", \"start_time\": \"2021-10-27T01:45:04.09647Z\", \"end_time\": \"2021-10-27T01:45:40.41405Z\", \"created_time\": \"2021-10-27T01:44:57.65062Z\", \"created_time_dt\": \"2021-10-27T01:44:57.65062Z\", \"duration\": \"0:00:42\", \"iteration\": \"11\", \"goal\": \"AUC_weighted_max\", \"run_name\": \"MaxAbsScaler, ExtremeRandomTrees\", \"run_properties\": \"copy=True\", \"primary_metric\": 0.84746933, \"best_metric\": 0.89135815}, {\"run_id\": \"AutoML_26088775-977d-493c-87b1-c1d800a399a7_12\", \"run_number\": 162, \"metric\": null, \"status\": \"Completed\", \"run_type\": \"azureml.scriptrun\", \"training_percent\": \"100\", \"start_time\": \"2021-10-27T01:45:44.920939Z\", \"end_time\": \"2021-10-27T01:47:23.81431Z\", \"created_time\": \"2021-10-27T01:45:42.092825Z\", \"created_time_dt\": \"2021-10-27T01:45:42.092825Z\", \"duration\": \"0:01:41\", \"iteration\": \"12\", \"goal\": \"AUC_weighted_max\", \"run_name\": \"StandardScalerWrapper, XGBoostClassifier\", \"run_properties\": \"\\n    copy=True,\\n    with_mean=False,\\n    with_std=False\\n\", \"primary_metric\": 0.89680723, \"best_metric\": 0.89680723}, {\"run_id\": \"AutoML_26088775-977d-493c-87b1-c1d800a399a7_13\", \"run_number\": 163, \"metric\": null, \"status\": \"Completed\", \"run_type\": \"azureml.scriptrun\", \"training_percent\": \"100\", \"start_time\": \"2021-10-27T01:45:49.028035Z\", \"end_time\": \"2021-10-27T01:47:55.252548Z\", \"created_time\": \"2021-10-27T01:45:44.391041Z\", \"created_time_dt\": \"2021-10-27T01:45:44.391041Z\", \"duration\": \"0:02:10\", \"iteration\": \"13\", \"goal\": \"AUC_weighted_max\", \"run_name\": \"StandardScalerWrapper, ExtremeRandomTrees\", \"run_properties\": \"\\n    copy=True,\\n    with_mean=False,\\n    with_std=False\\n\", \"primary_metric\": 0.766985, \"best_metric\": 0.89680723}, {\"run_id\": \"AutoML_26088775-977d-493c-87b1-c1d800a399a7_14\", \"run_number\": 164, \"metric\": null, \"status\": \"Completed\", \"run_type\": \"azureml.scriptrun\", \"training_percent\": \"100\", \"start_time\": \"2021-10-27T01:47:38.846567Z\", \"end_time\": \"2021-10-27T01:48:14.715698Z\", \"created_time\": \"2021-10-27T01:47:25.583336Z\", \"created_time_dt\": \"2021-10-27T01:47:25.583336Z\", \"duration\": \"0:00:49\", \"iteration\": \"14\", \"goal\": \"AUC_weighted_max\", \"run_name\": \"StandardScalerWrapper, RandomForest\", \"run_properties\": \"\\n    copy=True,\\n    with_mean=False,\\n    with_std=False\\n\", \"primary_metric\": 0.87265611, \"best_metric\": 0.89680723}, {\"run_id\": \"AutoML_26088775-977d-493c-87b1-c1d800a399a7_15\", \"run_number\": 165, \"metric\": null, \"status\": \"Completed\", \"run_type\": \"azureml.scriptrun\", \"training_percent\": \"100\", \"start_time\": \"2021-10-27T01:48:07.400041Z\", \"end_time\": \"2021-10-27T01:48:45.714836Z\", \"created_time\": \"2021-10-27T01:47:57.231463Z\", \"created_time_dt\": \"2021-10-27T01:47:57.231463Z\", \"duration\": \"0:00:48\", \"iteration\": \"15\", \"goal\": \"AUC_weighted_max\", \"run_name\": \"MaxAbsScaler, LightGBM\", \"run_properties\": \"copy=True\", \"primary_metric\": 0.90207279, \"best_metric\": 0.90207279}, {\"run_id\": \"AutoML_26088775-977d-493c-87b1-c1d800a399a7_16\", \"run_number\": 166, \"metric\": null, \"status\": \"Completed\", \"run_type\": \"azureml.scriptrun\", \"training_percent\": \"100\", \"start_time\": \"2021-10-27T01:48:24.919524Z\", \"end_time\": \"2021-10-27T01:49:05.434698Z\", \"created_time\": \"2021-10-27T01:48:16.487406Z\", \"created_time_dt\": \"2021-10-27T01:48:16.487406Z\", \"duration\": \"0:00:48\", \"iteration\": \"16\", \"goal\": \"AUC_weighted_max\", \"run_name\": \"MaxAbsScaler, LogisticRegression\", \"run_properties\": \"copy=True\", \"primary_metric\": 0.83148003, \"best_metric\": 0.90207279}, {\"run_id\": \"AutoML_26088775-977d-493c-87b1-c1d800a399a7_17\", \"run_number\": 167, \"metric\": null, \"status\": \"Completed\", \"run_type\": \"azureml.scriptrun\", \"training_percent\": \"100\", \"start_time\": \"2021-10-27T01:48:54.476672Z\", \"end_time\": \"2021-10-27T01:49:31.950813Z\", \"created_time\": \"2021-10-27T01:48:47.449331Z\", \"created_time_dt\": \"2021-10-27T01:48:47.449331Z\", \"duration\": \"0:00:44\", \"iteration\": \"17\", \"goal\": \"AUC_weighted_max\", \"run_name\": \"StandardScalerWrapper, ExtremeRandomTrees\", \"run_properties\": \"\\n    copy=True,\\n    with_mean=False,\\n    with_std=True\\n\", \"primary_metric\": 0.88921594, \"best_metric\": 0.90207279}, {\"run_id\": \"AutoML_26088775-977d-493c-87b1-c1d800a399a7_18\", \"run_number\": 168, \"metric\": null, \"status\": \"Completed\", \"run_type\": \"azureml.scriptrun\", \"training_percent\": \"100\", \"start_time\": \"2021-10-27T01:49:12.958328Z\", \"end_time\": \"2021-10-27T01:49:53.21098Z\", \"created_time\": \"2021-10-27T01:49:07.192722Z\", \"created_time_dt\": \"2021-10-27T01:49:07.192722Z\", \"duration\": \"0:00:46\", \"iteration\": \"18\", \"goal\": \"AUC_weighted_max\", \"run_name\": \"StandardScalerWrapper, XGBoostClassifier\", \"run_properties\": \"\\n    copy=True,\\n    with_mean=False,\\n    with_std=False\\n\", \"primary_metric\": 0.88463537, \"best_metric\": 0.90207279}, {\"run_id\": \"AutoML_26088775-977d-493c-87b1-c1d800a399a7_19\", \"run_number\": 169, \"metric\": null, \"status\": \"Completed\", \"run_type\": \"azureml.scriptrun\", \"training_percent\": \"100\", \"start_time\": \"2021-10-27T01:49:42.767915Z\", \"end_time\": \"2021-10-27T01:50:18.934714Z\", \"created_time\": \"2021-10-27T01:49:33.896075Z\", \"created_time_dt\": \"2021-10-27T01:49:33.896075Z\", \"duration\": \"0:00:45\", \"iteration\": \"19\", \"goal\": \"AUC_weighted_max\", \"run_name\": \"MaxAbsScaler, ExtremeRandomTrees\", \"run_properties\": \"copy=True\", \"primary_metric\": 0.80856809, \"best_metric\": 0.90207279}, {\"run_id\": \"AutoML_26088775-977d-493c-87b1-c1d800a399a7_20\", \"run_number\": 170, \"metric\": null, \"status\": \"Completed\", \"run_type\": \"azureml.scriptrun\", \"training_percent\": \"100\", \"start_time\": \"2021-10-27T01:50:01.002332Z\", \"end_time\": \"2021-10-27T01:50:35.598869Z\", \"created_time\": \"2021-10-27T01:49:54.903821Z\", \"created_time_dt\": \"2021-10-27T01:49:54.903821Z\", \"duration\": \"0:00:40\", \"iteration\": \"20\", \"goal\": \"AUC_weighted_max\", \"run_name\": \"MaxAbsScaler, LogisticRegression\", \"run_properties\": \"copy=True\", \"primary_metric\": 0.82770801, \"best_metric\": 0.90207279}, {\"run_id\": \"AutoML_26088775-977d-493c-87b1-c1d800a399a7_21\", \"run_number\": 171, \"metric\": null, \"status\": \"Completed\", \"run_type\": \"azureml.scriptrun\", \"training_percent\": \"100\", \"start_time\": \"2021-10-27T01:50:30.411573Z\", \"end_time\": \"2021-10-27T01:51:48.862822Z\", \"created_time\": \"2021-10-27T01:50:20.747428Z\", \"created_time_dt\": \"2021-10-27T01:50:20.747428Z\", \"duration\": \"0:01:28\", \"iteration\": \"21\", \"goal\": \"AUC_weighted_max\", \"run_name\": \"StandardScalerWrapper, XGBoostClassifier\", \"run_properties\": \"\\n    copy=True,\\n    with_mean=False,\\n    with_std=False\\n\", \"primary_metric\": 0.90086633, \"best_metric\": 0.90207279}, {\"run_id\": \"AutoML_26088775-977d-493c-87b1-c1d800a399a7_22\", \"run_number\": 172, \"metric\": null, \"status\": \"Completed\", \"run_type\": \"azureml.scriptrun\", \"training_percent\": \"100\", \"start_time\": \"2021-10-27T01:50:42.273767Z\", \"end_time\": \"2021-10-27T01:52:22.530361Z\", \"created_time\": \"2021-10-27T01:50:37.349903Z\", \"created_time_dt\": \"2021-10-27T01:50:37.349903Z\", \"duration\": \"0:01:45\", \"iteration\": \"22\", \"goal\": \"AUC_weighted_max\", \"run_name\": \"StandardScalerWrapper, XGBoostClassifier\", \"run_properties\": \"\\n    copy=True,\\n    with_mean=False,\\n    with_std=False\\n\", \"primary_metric\": 0.89050599, \"best_metric\": 0.90207279}, {\"run_id\": \"AutoML_26088775-977d-493c-87b1-c1d800a399a7_23\", \"run_number\": 173, \"metric\": null, \"status\": \"Completed\", \"run_type\": \"azureml.scriptrun\", \"training_percent\": \"100\", \"start_time\": \"2021-10-27T01:52:00.867237Z\", \"end_time\": \"2021-10-27T01:52:36.141846Z\", \"created_time\": \"2021-10-27T01:51:50.27894Z\", \"created_time_dt\": \"2021-10-27T01:51:50.27894Z\", \"duration\": \"0:00:45\", \"iteration\": \"23\", \"goal\": \"AUC_weighted_max\", \"run_name\": \"MaxAbsScaler, GradientBoosting\", \"run_properties\": \"copy=True\", \"primary_metric\": 0.86833173, \"best_metric\": 0.90207279}, {\"run_id\": \"AutoML_26088775-977d-493c-87b1-c1d800a399a7_24\", \"run_number\": 174, \"metric\": null, \"status\": \"Completed\", \"run_type\": \"azureml.scriptrun\", \"training_percent\": \"100\", \"start_time\": \"2021-10-27T01:52:30.616096Z\", \"end_time\": \"2021-10-27T01:53:03.868719Z\", \"created_time\": \"2021-10-27T01:52:23.921175Z\", \"created_time_dt\": \"2021-10-27T01:52:23.921175Z\", \"duration\": \"0:00:39\", \"iteration\": \"24\", \"goal\": \"AUC_weighted_max\", \"run_name\": \"StandardScalerWrapper, RandomForest\", \"run_properties\": \"\\n    copy=True,\\n    with_mean=False,\\n    with_std=True\\n\", \"primary_metric\": 0.86477048, \"best_metric\": 0.90207279}, {\"run_id\": \"AutoML_26088775-977d-493c-87b1-c1d800a399a7_25\", \"run_number\": 175, \"metric\": null, \"status\": \"Completed\", \"run_type\": \"azureml.scriptrun\", \"training_percent\": \"100\", \"start_time\": \"2021-10-27T01:52:42.001038Z\", \"end_time\": \"2021-10-27T01:53:16.362792Z\", \"created_time\": \"2021-10-27T01:52:38.307842Z\", \"created_time_dt\": \"2021-10-27T01:52:38.307842Z\", \"duration\": \"0:00:38\", \"iteration\": \"25\", \"goal\": \"AUC_weighted_max\", \"run_name\": \"StandardScalerWrapper, LightGBM\", \"run_properties\": \"\\n    copy=True,\\n    with_mean=False,\\n    with_std=False\\n\", \"primary_metric\": 0.86989796, \"best_metric\": 0.90207279}, {\"run_id\": \"AutoML_26088775-977d-493c-87b1-c1d800a399a7_26\", \"run_number\": 176, \"metric\": null, \"status\": \"Completed\", \"run_type\": \"azureml.scriptrun\", \"training_percent\": \"100\", \"start_time\": \"2021-10-27T01:53:12.78245Z\", \"end_time\": \"2021-10-27T01:53:49.078431Z\", \"created_time\": \"2021-10-27T01:53:05.3131Z\", \"created_time_dt\": \"2021-10-27T01:53:05.3131Z\", \"duration\": \"0:00:43\", \"iteration\": \"26\", \"goal\": \"AUC_weighted_max\", \"run_name\": \"StandardScalerWrapper, LightGBM\", \"run_properties\": \"\\n    copy=True,\\n    with_mean=False,\\n    with_std=True\\n\", \"primary_metric\": 0.89091481, \"best_metric\": 0.90207279}, {\"run_id\": \"AutoML_26088775-977d-493c-87b1-c1d800a399a7_27\", \"run_number\": 177, \"metric\": null, \"status\": \"Completed\", \"run_type\": \"azureml.scriptrun\", \"training_percent\": \"100\", \"start_time\": \"2021-10-27T01:53:22.913719Z\", \"end_time\": \"2021-10-27T01:54:00.691226Z\", \"created_time\": \"2021-10-27T01:53:17.755966Z\", \"created_time_dt\": \"2021-10-27T01:53:17.755966Z\", \"duration\": \"0:00:42\", \"iteration\": \"27\", \"goal\": \"AUC_weighted_max\", \"run_name\": \"StandardScalerWrapper, LightGBM\", \"run_properties\": \"\\n    copy=True,\\n    with_mean=False,\\n    with_std=False\\n\", \"primary_metric\": 0.87478196, \"best_metric\": 0.90207279}, {\"run_id\": \"AutoML_26088775-977d-493c-87b1-c1d800a399a7_28\", \"run_number\": 178, \"metric\": null, \"status\": \"Completed\", \"run_type\": \"azureml.scriptrun\", \"training_percent\": \"100\", \"start_time\": \"2021-10-27T01:54:00.765019Z\", \"end_time\": \"2021-10-27T01:54:35.905005Z\", \"created_time\": \"2021-10-27T01:53:50.406898Z\", \"created_time_dt\": \"2021-10-27T01:53:50.406898Z\", \"duration\": \"0:00:45\", \"iteration\": \"28\", \"goal\": \"AUC_weighted_max\", \"run_name\": \"StandardScalerWrapper, XGBoostClassifier\", \"run_properties\": \"\\n    copy=True,\\n    with_mean=False,\\n    with_std=False\\n\", \"primary_metric\": 0.88882711, \"best_metric\": 0.90207279}, {\"run_id\": \"AutoML_26088775-977d-493c-87b1-c1d800a399a7_29\", \"run_number\": 179, \"metric\": null, \"status\": \"Completed\", \"run_type\": \"azureml.scriptrun\", \"training_percent\": \"100\", \"start_time\": \"2021-10-27T01:54:07.920895Z\", \"end_time\": \"2021-10-27T01:54:42.871322Z\", \"created_time\": \"2021-10-27T01:54:02.043539Z\", \"created_time_dt\": \"2021-10-27T01:54:02.043539Z\", \"duration\": \"0:00:40\", \"iteration\": \"29\", \"goal\": \"AUC_weighted_max\", \"run_name\": \"StandardScalerWrapper, LogisticRegression\", \"run_properties\": \"\\n    copy=True,\\n    with_mean=False,\\n    with_std=True\\n\", \"primary_metric\": 0.88698471, \"best_metric\": 0.90207279}, {\"run_id\": \"AutoML_26088775-977d-493c-87b1-c1d800a399a7_30\", \"run_number\": 180, \"metric\": null, \"status\": \"Completed\", \"run_type\": \"azureml.scriptrun\", \"training_percent\": \"100\", \"start_time\": \"2021-10-27T01:54:44.815146Z\", \"end_time\": \"2021-10-27T01:55:20.361775Z\", \"created_time\": \"2021-10-27T01:54:38.204137Z\", \"created_time_dt\": \"2021-10-27T01:54:38.204137Z\", \"duration\": \"0:00:42\", \"iteration\": \"30\", \"goal\": \"AUC_weighted_max\", \"run_name\": \"StandardScalerWrapper, LightGBM\", \"run_properties\": \"\\n    copy=True,\\n    with_mean=False,\\n    with_std=False\\n\", \"primary_metric\": 0.89950724, \"best_metric\": 0.90207279}, {\"run_id\": \"AutoML_26088775-977d-493c-87b1-c1d800a399a7_31\", \"run_number\": 181, \"metric\": null, \"status\": \"Canceled\", \"run_type\": \"azureml.scriptrun\", \"training_percent\": \"100\", \"start_time\": \"2021-10-27T01:54:48.827521Z\", \"end_time\": \"2021-10-27T01:55:21.256161Z\", \"created_time\": \"2021-10-27T01:54:44.320109Z\", \"created_time_dt\": \"2021-10-27T01:54:44.320109Z\", \"duration\": \"0:00:36\", \"iteration\": \"31\", \"goal\": \"AUC_weighted_max\", \"run_name\": \"MaxAbsScaler, LightGBM\", \"run_properties\": \"copy=True\", \"primary_metric\": 0.87688601, \"best_metric\": 0.90207279}, {\"run_id\": \"AutoML_26088775-977d-493c-87b1-c1d800a399a7_32\", \"run_number\": 182, \"metric\": null, \"status\": \"Completed\", \"run_type\": \"azureml.scriptrun\", \"training_percent\": \"100\", \"start_time\": \"2021-10-27T01:55:26.713894Z\", \"end_time\": \"2021-10-27T01:56:21.371798Z\", \"created_time\": \"2021-10-27T01:55:22.565159Z\", \"created_time_dt\": \"2021-10-27T01:55:22.565159Z\", \"duration\": \"0:00:58\", \"iteration\": \"32\", \"goal\": \"AUC_weighted_max\", \"run_name\": \"VotingEnsemble\", \"run_properties\": \"\\n    estimators=[('15', Pipeline(\\n        memory=None,\\n        steps=[('maxabsscaler', MaxAbsScaler(\\n            copy=True\\n        \", \"primary_metric\": 0.91844003, \"best_metric\": 0.91844003}, {\"run_id\": \"AutoML_26088775-977d-493c-87b1-c1d800a399a7_33\", \"run_number\": 183, \"metric\": null, \"status\": \"Completed\", \"run_type\": \"azureml.scriptrun\", \"training_percent\": \"100\", \"start_time\": \"2021-10-27T01:55:27.096264Z\", \"end_time\": \"2021-10-27T01:56:17.613804Z\", \"created_time\": \"2021-10-27T01:55:22.617045Z\", \"created_time_dt\": \"2021-10-27T01:55:22.617045Z\", \"duration\": \"0:00:54\", \"iteration\": \"33\", \"goal\": \"AUC_weighted_max\", \"run_name\": \"StackEnsemble\", \"run_properties\": \"\\n    base_learners=[('15', Pipeline(\\n        memory=None,\\n        steps=[('maxabsscaler', MaxAbsScaler(\\n            copy=True\\n        \", \"primary_metric\": 0.91213152, \"best_metric\": 0.91844003}], \"children_metrics\": {\"categories\": [0], \"series\": {\"balanced_accuracy\": [{\"categories\": [\"0\", \"1\", \"2\", \"3\", \"4\", \"5\", \"6\", \"7\", \"8\", \"9\", \"10\", \"11\", \"12\", \"13\", \"14\", \"15\", \"16\", \"17\", \"18\", \"19\", \"20\", \"21\", \"22\", \"23\", \"24\", \"25\", \"26\", \"27\", \"28\", \"29\", \"30\", \"31\", \"32\", \"33\"], \"mode\": \"markers\", \"name\": \"balanced_accuracy\", \"stepped\": false, \"type\": \"scatter\", \"data\": [0.742546805046805, 0.7867572242572242, 0.7901022588522588, 0.751399063899064, 0.7258725071225071, 0.72111568986569, 0.7262667887667887, 0.7006766381766382, 0.7095416157916158, 0.7638761701261702, 0.7647283272283273, 0.7436024623524623, 0.8099689662189663, 0.5081145706145707, 0.7525946275946275, 0.7491859991859992, 0.7662672975172975, 0.8350376475376476, 0.7997812372812373, 0.5139906389906389, 0.6974460724460725, 0.8055046805046805, 0.7899623524623524, 0.716447903947904, 0.7761752136752135, 0.7185592185592186, 0.8058353683353682, 0.7710113960113961, 0.7927096052096051, 0.8417913105413106, 0.8171423483923483, 0.7119454619454619, 0.806496743996744, 0.5]}, {\"categories\": [\"0\", \"1\", \"2\", \"3\", \"4\", \"5\", \"6\", \"7\", \"8\", \"9\", \"10\", \"11\", \"12\", \"13\", \"14\", \"15\", \"16\", \"17\", \"18\", \"19\", \"20\", \"21\", \"22\", \"23\", \"24\", \"25\", \"26\", \"27\", \"28\", \"29\", \"30\", \"31\", \"32\", \"33\"], \"mode\": \"lines\", \"name\": \"balanced_accuracy_max\", \"stepped\": true, \"type\": \"scatter\", \"data\": [0.742546805046805, 0.7867572242572242, 0.7901022588522588, 0.7901022588522588, 0.7901022588522588, 0.7901022588522588, 0.7901022588522588, 0.7901022588522588, 0.7901022588522588, 0.7901022588522588, 0.7901022588522588, 0.7901022588522588, 0.8099689662189663, 0.8099689662189663, 0.8099689662189663, 0.8099689662189663, 0.8099689662189663, 0.8350376475376476, 0.8350376475376476, 0.8350376475376476, 0.8350376475376476, 0.8350376475376476, 0.8350376475376476, 0.8350376475376476, 0.8350376475376476, 0.8350376475376476, 0.8350376475376476, 0.8350376475376476, 0.8350376475376476, 0.8417913105413106, 0.8417913105413106, 0.8417913105413106, 0.8417913105413106, 0.8417913105413106]}], \"recall_score_micro\": [{\"categories\": [\"0\", \"1\", \"2\", \"3\", \"4\", \"5\", \"6\", \"7\", \"8\", \"9\", \"10\", \"11\", \"12\", \"13\", \"14\", \"15\", \"16\", \"17\", \"18\", \"19\", \"20\", \"21\", \"22\", \"23\", \"24\", \"25\", \"26\", \"27\", \"28\", \"29\", \"30\", \"31\", \"32\", \"33\"], \"mode\": \"markers\", \"name\": \"recall_score_micro\", \"stepped\": false, \"type\": \"scatter\", \"data\": [0.7846790890269152, 0.8181504485852312, 0.8087646652864043, 0.8086956521739131, 0.7846790890269152, 0.7607315389924084, 0.7749482401656315, 0.7701863354037267, 0.760662525879917, 0.7893719806763285, 0.8037267080745342, 0.7797791580400277, 0.8371980676328503, 0.6652173913043479, 0.7988267770876467, 0.803864734299517, 0.7799171842650104, 0.8371290545203589, 0.8322291235334713, 0.6843340234644583, 0.7511387163561075, 0.8371980676328503, 0.822912353347136, 0.7799861973775016, 0.7989648033126294, 0.794064872325742, 0.8325741890959281, 0.8084886128364389, 0.8229813664596274, 0.8420979986197378, 0.8420979986197378, 0.7752242926155969, 0.8323671497584542, 0.6795031055900621]}, {\"categories\": [\"0\", \"1\", \"2\", \"3\", \"4\", \"5\", \"6\", \"7\", \"8\", \"9\", \"10\", \"11\", \"12\", \"13\", \"14\", \"15\", \"16\", \"17\", \"18\", \"19\", \"20\", \"21\", \"22\", \"23\", \"24\", \"25\", \"26\", \"27\", \"28\", \"29\", \"30\", \"31\", \"32\", \"33\"], \"mode\": \"lines\", \"name\": \"recall_score_micro_max\", \"stepped\": true, \"type\": \"scatter\", \"data\": [0.7846790890269152, 0.8181504485852312, 0.8181504485852312, 0.8181504485852312, 0.8181504485852312, 0.8181504485852312, 0.8181504485852312, 0.8181504485852312, 0.8181504485852312, 0.8181504485852312, 0.8181504485852312, 0.8181504485852312, 0.8371980676328503, 0.8371980676328503, 0.8371980676328503, 0.8371980676328503, 0.8371980676328503, 0.8371980676328503, 0.8371980676328503, 0.8371980676328503, 0.8371980676328503, 0.8371980676328503, 0.8371980676328503, 0.8371980676328503, 0.8371980676328503, 0.8371980676328503, 0.8371980676328503, 0.8371980676328503, 0.8371980676328503, 0.8420979986197378, 0.8420979986197378, 0.8420979986197378, 0.8420979986197378, 0.8420979986197378]}], \"precision_score_weighted\": [{\"categories\": [\"0\", \"1\", \"2\", \"3\", \"4\", \"5\", \"6\", \"7\", \"8\", \"9\", \"10\", \"11\", \"12\", \"13\", \"14\", \"15\", \"16\", \"17\", \"18\", \"19\", \"20\", \"21\", \"22\", \"23\", \"24\", \"25\", \"26\", \"27\", \"28\", \"29\", \"30\", \"31\", \"32\", \"33\"], \"mode\": \"markers\", \"name\": \"precision_score_weighted\", \"stepped\": false, \"type\": \"scatter\", \"data\": [0.7882919801897005, 0.82365369501838, 0.8291835539661627, 0.819069801833777, 0.7926351570396294, 0.7611213570039513, 0.7817736733615751, 0.7785372347051843, 0.7628345752305049, 0.7950954420115334, 0.8055013610051973, 0.7899451158905779, 0.8418876465825681, 0.6660306179327918, 0.8025141406677087, 0.8114516192038752, 0.7974286865359946, 0.8512736165970826, 0.8334044039802432, 0.6137035683838753, 0.7562092913443029, 0.8417031137410841, 0.8269151138716357, 0.7861112495437439, 0.806174318220448, 0.8027451318069168, 0.8381396894810402, 0.8128429281586976, 0.8322750961615203, 0.8577907197472415, 0.8476171966007717, 0.6934276488797061, 0.8373039081800115, 0.46525622725460697]}, {\"categories\": [\"0\", \"1\", \"2\", \"3\", \"4\", \"5\", \"6\", \"7\", \"8\", \"9\", \"10\", \"11\", \"12\", \"13\", \"14\", \"15\", \"16\", \"17\", \"18\", \"19\", \"20\", \"21\", \"22\", \"23\", \"24\", \"25\", \"26\", \"27\", \"28\", \"29\", \"30\", \"31\", \"32\", \"33\"], \"mode\": \"lines\", \"name\": \"precision_score_weighted_max\", \"stepped\": true, \"type\": \"scatter\", \"data\": [0.7882919801897005, 0.82365369501838, 0.8291835539661627, 0.8291835539661627, 0.8291835539661627, 0.8291835539661627, 0.8291835539661627, 0.8291835539661627, 0.8291835539661627, 0.8291835539661627, 0.8291835539661627, 0.8291835539661627, 0.8418876465825681, 0.8418876465825681, 0.8418876465825681, 0.8418876465825681, 0.8418876465825681, 0.8512736165970826, 0.8512736165970826, 0.8512736165970826, 0.8512736165970826, 0.8512736165970826, 0.8512736165970826, 0.8512736165970826, 0.8512736165970826, 0.8512736165970826, 0.8512736165970826, 0.8512736165970826, 0.8512736165970826, 0.8577907197472415, 0.8577907197472415, 0.8577907197472415, 0.8577907197472415, 0.8577907197472415]}], \"average_precision_score_micro\": [{\"categories\": [\"0\", \"1\", \"2\", \"3\", \"4\", \"5\", \"6\", \"7\", \"8\", \"9\", \"10\", \"11\", \"12\", \"13\", \"14\", \"15\", \"16\", \"17\", \"18\", \"19\", \"20\", \"21\", \"22\", \"23\", \"24\", \"25\", \"26\", \"27\", \"28\", \"29\", \"30\", \"31\", \"32\", \"33\"], \"mode\": \"markers\", \"name\": \"average_precision_score_micro\", \"stepped\": false, \"type\": \"scatter\", \"data\": [0.893107089728081, 0.8904950312805866, 0.893203469322828, 0.8961304499529194, 0.888582050950178, 0.8600630233396402, 0.8845811543275843, 0.8782584588651545, 0.864268083885294, 0.8833492001950681, 0.8923736137866195, 0.8660176569959072, 0.9021507018247329, 0.807738536648244, 0.8876230524481591, 0.8986258909339077, 0.837476413132665, 0.9032163057668896, 0.8859637260318847, 0.8264545817347967, 0.8451760889827759, 0.9098551576765969, 0.9015203745414483, 0.8738443506272691, 0.8837651953984281, 0.8724719431694736, 0.9011765754003758, 0.8909407803568264, 0.8984087811771845, 0.8869838369050608, 0.9066547888829503, 0.8604898754053337, 0.9177960660653732, 0.8720748047411823]}, {\"categories\": [\"0\", \"1\", \"2\", \"3\", \"4\", \"5\", \"6\", \"7\", \"8\", \"9\", \"10\", \"11\", \"12\", \"13\", \"14\", \"15\", \"16\", \"17\", \"18\", \"19\", \"20\", \"21\", \"22\", \"23\", \"24\", \"25\", \"26\", \"27\", \"28\", \"29\", \"30\", \"31\", \"32\", \"33\"], \"mode\": \"lines\", \"name\": \"average_precision_score_micro_max\", \"stepped\": true, \"type\": \"scatter\", \"data\": [0.893107089728081, 0.893107089728081, 0.893203469322828, 0.8961304499529194, 0.8961304499529194, 0.8961304499529194, 0.8961304499529194, 0.8961304499529194, 0.8961304499529194, 0.8961304499529194, 0.8961304499529194, 0.8961304499529194, 0.9021507018247329, 0.9021507018247329, 0.9021507018247329, 0.9021507018247329, 0.9021507018247329, 0.9032163057668896, 0.9032163057668896, 0.9032163057668896, 0.9032163057668896, 0.9098551576765969, 0.9098551576765969, 0.9098551576765969, 0.9098551576765969, 0.9098551576765969, 0.9098551576765969, 0.9098551576765969, 0.9098551576765969, 0.9098551576765969, 0.9098551576765969, 0.9098551576765969, 0.9177960660653732, 0.9177960660653732]}], \"average_precision_score_macro\": [{\"categories\": [\"0\", \"1\", \"2\", \"3\", \"4\", \"5\", \"6\", \"7\", \"8\", \"9\", \"10\", \"11\", \"12\", \"13\", \"14\", \"15\", \"16\", \"17\", \"18\", \"19\", \"20\", \"21\", \"22\", \"23\", \"24\", \"25\", \"26\", \"27\", \"28\", \"29\", \"30\", \"31\", \"32\", \"33\"], \"mode\": \"markers\", \"name\": \"average_precision_score_macro\", \"stepped\": false, \"type\": \"scatter\", \"data\": [0.8366297871262223, 0.847799479174129, 0.8240867041116916, 0.8619295396479546, 0.8459871301247498, 0.8003255869231728, 0.8231102988379484, 0.8381412147200376, 0.7958779723064309, 0.8343593715933224, 0.8370618829454112, 0.7988662525818547, 0.8627940591980994, 0.736252850673036, 0.8298564472666158, 0.8833040069221144, 0.8114909182493192, 0.8407897680067729, 0.8489263716454696, 0.7731384467659135, 0.803645119924686, 0.8687182062318838, 0.8570115506691899, 0.8244636606403658, 0.8260905686094691, 0.8429312304888038, 0.86049247272859, 0.8486348881460133, 0.8586679960134266, 0.86266299776142, 0.8823660354764012, 0.8429526568573692, 0.8973207741461571, 0.8822279216022976]}, {\"categories\": [\"0\", \"1\", \"2\", \"3\", \"4\", \"5\", \"6\", \"7\", \"8\", \"9\", \"10\", \"11\", \"12\", \"13\", \"14\", \"15\", \"16\", \"17\", \"18\", \"19\", \"20\", \"21\", \"22\", \"23\", \"24\", \"25\", \"26\", \"27\", \"28\", \"29\", \"30\", \"31\", \"32\", \"33\"], \"mode\": \"lines\", \"name\": \"average_precision_score_macro_max\", \"stepped\": true, \"type\": \"scatter\", \"data\": [0.8366297871262223, 0.847799479174129, 0.847799479174129, 0.8619295396479546, 0.8619295396479546, 0.8619295396479546, 0.8619295396479546, 0.8619295396479546, 0.8619295396479546, 0.8619295396479546, 0.8619295396479546, 0.8619295396479546, 0.8627940591980994, 0.8627940591980994, 0.8627940591980994, 0.8833040069221144, 0.8833040069221144, 0.8833040069221144, 0.8833040069221144, 0.8833040069221144, 0.8833040069221144, 0.8833040069221144, 0.8833040069221144, 0.8833040069221144, 0.8833040069221144, 0.8833040069221144, 0.8833040069221144, 0.8833040069221144, 0.8833040069221144, 0.8833040069221144, 0.8833040069221144, 0.8833040069221144, 0.8973207741461571, 0.8973207741461571]}], \"AUC_weighted\": [{\"categories\": [\"0\", \"1\", \"2\", \"3\", \"4\", \"5\", \"6\", \"7\", \"8\", \"9\", \"10\", \"11\", \"12\", \"13\", \"14\", \"15\", \"16\", \"17\", \"18\", \"19\", \"20\", \"21\", \"22\", \"23\", \"24\", \"25\", \"26\", \"27\", \"28\", \"29\", \"30\", \"31\", \"32\", \"33\"], \"mode\": \"markers\", \"name\": \"AUC_weighted\", \"stepped\": false, \"type\": \"scatter\", \"data\": [0.8814393278678994, 0.8811086400372116, 0.8770767922553637, 0.8913581458224313, 0.8771403860689574, 0.8411281179138322, 0.8757013489156346, 0.8678193499622071, 0.8507671230885517, 0.8619868887726031, 0.8780706727135298, 0.8474693296121868, 0.89680722716437, 0.7669849991278562, 0.8726561137275423, 0.9020727949299377, 0.8314800279085993, 0.8892159427873714, 0.884635371242514, 0.8085680853537998, 0.8277080062794347, 0.900866329437758, 0.8905059887202743, 0.868331734403163, 0.8647704808419094, 0.8698979591836734, 0.8909148060933775, 0.8747819640676783, 0.8888271120413979, 0.8869847084132799, 0.8995072387929531, 0.8768860108145821, 0.9184400255828827, 0.9121315192743764]}, {\"categories\": [\"0\", \"1\", \"2\", \"3\", \"4\", \"5\", \"6\", \"7\", \"8\", \"9\", \"10\", \"11\", \"12\", \"13\", \"14\", \"15\", \"16\", \"17\", \"18\", \"19\", \"20\", \"21\", \"22\", \"23\", \"24\", \"25\", \"26\", \"27\", \"28\", \"29\", \"30\", \"31\", \"32\", \"33\"], \"mode\": \"lines\", \"name\": \"AUC_weighted_max\", \"stepped\": true, \"type\": \"scatter\", \"data\": [0.8814393278678994, 0.8814393278678994, 0.8814393278678994, 0.8913581458224313, 0.8913581458224313, 0.8913581458224313, 0.8913581458224313, 0.8913581458224313, 0.8913581458224313, 0.8913581458224313, 0.8913581458224313, 0.8913581458224313, 0.89680722716437, 0.89680722716437, 0.89680722716437, 0.9020727949299377, 0.9020727949299377, 0.9020727949299377, 0.9020727949299377, 0.9020727949299377, 0.9020727949299377, 0.9020727949299377, 0.9020727949299377, 0.9020727949299377, 0.9020727949299377, 0.9020727949299377, 0.9020727949299377, 0.9020727949299377, 0.9020727949299377, 0.9020727949299377, 0.9020727949299377, 0.9020727949299377, 0.9184400255828827, 0.9184400255828827]}], \"AUC_macro\": [{\"categories\": [\"0\", \"1\", \"2\", \"3\", \"4\", \"5\", \"6\", \"7\", \"8\", \"9\", \"10\", \"11\", \"12\", \"13\", \"14\", \"15\", \"16\", \"17\", \"18\", \"19\", \"20\", \"21\", \"22\", \"23\", \"24\", \"25\", \"26\", \"27\", \"28\", \"29\", \"30\", \"31\", \"32\", \"33\"], \"mode\": \"markers\", \"name\": \"AUC_macro\", \"stepped\": false, \"type\": \"scatter\", \"data\": [0.8814393278678994, 0.8811086400372116, 0.8770767922553637, 0.8913581458224314, 0.8771403860689575, 0.8411281179138322, 0.8757013489156346, 0.8678193499622071, 0.8507671230885516, 0.861986888772603, 0.8780706727135299, 0.8474693296121867, 0.8968072271643699, 0.7669849991278563, 0.8726561137275423, 0.9020727949299377, 0.8314800279085993, 0.8892159427873714, 0.884635371242514, 0.8085680853537994, 0.8277080062794347, 0.900866329437758, 0.8905059887202743, 0.868331734403163, 0.8647704808419094, 0.8698979591836734, 0.8909148060933777, 0.8747819640676783, 0.8888271120413979, 0.8869847084132799, 0.8995072387929529, 0.8768860108145823, 0.9184400255828827, 0.9121315192743764]}, {\"categories\": [\"0\", \"1\", \"2\", \"3\", \"4\", \"5\", \"6\", \"7\", \"8\", \"9\", \"10\", \"11\", \"12\", \"13\", \"14\", \"15\", \"16\", \"17\", \"18\", \"19\", \"20\", \"21\", \"22\", \"23\", \"24\", \"25\", \"26\", \"27\", \"28\", \"29\", \"30\", \"31\", \"32\", \"33\"], \"mode\": \"lines\", \"name\": \"AUC_macro_max\", \"stepped\": true, \"type\": \"scatter\", \"data\": [0.8814393278678994, 0.8814393278678994, 0.8814393278678994, 0.8913581458224314, 0.8913581458224314, 0.8913581458224314, 0.8913581458224314, 0.8913581458224314, 0.8913581458224314, 0.8913581458224314, 0.8913581458224314, 0.8913581458224314, 0.8968072271643699, 0.8968072271643699, 0.8968072271643699, 0.9020727949299377, 0.9020727949299377, 0.9020727949299377, 0.9020727949299377, 0.9020727949299377, 0.9020727949299377, 0.9020727949299377, 0.9020727949299377, 0.9020727949299377, 0.9020727949299377, 0.9020727949299377, 0.9020727949299377, 0.9020727949299377, 0.9020727949299377, 0.9020727949299377, 0.9020727949299377, 0.9020727949299377, 0.9184400255828827, 0.9184400255828827]}], \"precision_score_micro\": [{\"categories\": [\"0\", \"1\", \"2\", \"3\", \"4\", \"5\", \"6\", \"7\", \"8\", \"9\", \"10\", \"11\", \"12\", \"13\", \"14\", \"15\", \"16\", \"17\", \"18\", \"19\", \"20\", \"21\", \"22\", \"23\", \"24\", \"25\", \"26\", \"27\", \"28\", \"29\", \"30\", \"31\", \"32\", \"33\"], \"mode\": \"markers\", \"name\": \"precision_score_micro\", \"stepped\": false, \"type\": \"scatter\", \"data\": [0.7846790890269152, 0.8181504485852312, 0.8087646652864043, 0.8086956521739131, 0.7846790890269152, 0.7607315389924084, 0.7749482401656315, 0.7701863354037267, 0.760662525879917, 0.7893719806763285, 0.8037267080745342, 0.7797791580400277, 0.8371980676328503, 0.6652173913043479, 0.7988267770876467, 0.803864734299517, 0.7799171842650104, 0.8371290545203589, 0.8322291235334713, 0.6843340234644583, 0.7511387163561075, 0.8371980676328503, 0.822912353347136, 0.7799861973775016, 0.7989648033126294, 0.794064872325742, 0.8325741890959281, 0.8084886128364389, 0.8229813664596274, 0.8420979986197378, 0.8420979986197378, 0.7752242926155969, 0.8323671497584542, 0.6795031055900621]}, {\"categories\": [\"0\", \"1\", \"2\", \"3\", \"4\", \"5\", \"6\", \"7\", \"8\", \"9\", \"10\", \"11\", \"12\", \"13\", \"14\", \"15\", \"16\", \"17\", \"18\", \"19\", \"20\", \"21\", \"22\", \"23\", \"24\", \"25\", \"26\", \"27\", \"28\", \"29\", \"30\", \"31\", \"32\", \"33\"], \"mode\": \"lines\", \"name\": \"precision_score_micro_max\", \"stepped\": true, \"type\": \"scatter\", \"data\": [0.7846790890269152, 0.8181504485852312, 0.8181504485852312, 0.8181504485852312, 0.8181504485852312, 0.8181504485852312, 0.8181504485852312, 0.8181504485852312, 0.8181504485852312, 0.8181504485852312, 0.8181504485852312, 0.8181504485852312, 0.8371980676328503, 0.8371980676328503, 0.8371980676328503, 0.8371980676328503, 0.8371980676328503, 0.8371980676328503, 0.8371980676328503, 0.8371980676328503, 0.8371980676328503, 0.8371980676328503, 0.8371980676328503, 0.8371980676328503, 0.8371980676328503, 0.8371980676328503, 0.8371980676328503, 0.8371980676328503, 0.8371980676328503, 0.8420979986197378, 0.8420979986197378, 0.8420979986197378, 0.8420979986197378, 0.8420979986197378]}], \"matthews_correlation\": [{\"categories\": [\"0\", \"1\", \"2\", \"3\", \"4\", \"5\", \"6\", \"7\", \"8\", \"9\", \"10\", \"11\", \"12\", \"13\", \"14\", \"15\", \"16\", \"17\", \"18\", \"19\", \"20\", \"21\", \"22\", \"23\", \"24\", \"25\", \"26\", \"27\", \"28\", \"29\", \"30\", \"31\", \"32\", \"33\"], \"mode\": \"markers\", \"name\": \"matthews_correlation\", \"stepped\": false, \"type\": \"scatter\", \"data\": [0.4983775143917379, 0.5812359355900968, 0.5822005552351409, 0.5505776766366748, 0.4953101596565259, 0.44650255556885804, 0.48037262838867495, 0.45127402352626517, 0.4375028536506054, 0.5191710071219107, 0.5448989675074095, 0.49598472101104507, 0.6262144081240352, 0.06317984074495943, 0.5260607673793996, 0.5415971119422212, 0.5166842382208277, 0.6460373512136669, 0.6075459647661829, 0.09287833729615107, 0.41324395052009005, 0.6237555064079531, 0.5903812987385195, 0.47772049283846646, 0.5426373543282356, 0.5066186329851056, 0.6168799685175347, 0.5568549066561249, 0.5966107725011142, 0.6571113040068647, 0.6418866067693004, 0.43609741402280716, 0.6160062286846456, 0.0]}, {\"categories\": [\"0\", \"1\", \"2\", \"3\", \"4\", \"5\", \"6\", \"7\", \"8\", \"9\", \"10\", \"11\", \"12\", \"13\", \"14\", \"15\", \"16\", \"17\", \"18\", \"19\", \"20\", \"21\", \"22\", \"23\", \"24\", \"25\", \"26\", \"27\", \"28\", \"29\", \"30\", \"31\", \"32\", \"33\"], \"mode\": \"lines\", \"name\": \"matthews_correlation_max\", \"stepped\": true, \"type\": \"scatter\", \"data\": [0.4983775143917379, 0.5812359355900968, 0.5822005552351409, 0.5822005552351409, 0.5822005552351409, 0.5822005552351409, 0.5822005552351409, 0.5822005552351409, 0.5822005552351409, 0.5822005552351409, 0.5822005552351409, 0.5822005552351409, 0.6262144081240352, 0.6262144081240352, 0.6262144081240352, 0.6262144081240352, 0.6262144081240352, 0.6460373512136669, 0.6460373512136669, 0.6460373512136669, 0.6460373512136669, 0.6460373512136669, 0.6460373512136669, 0.6460373512136669, 0.6460373512136669, 0.6460373512136669, 0.6460373512136669, 0.6460373512136669, 0.6460373512136669, 0.6571113040068647, 0.6571113040068647, 0.6571113040068647, 0.6571113040068647, 0.6571113040068647]}], \"norm_macro_recall\": [{\"categories\": [\"0\", \"1\", \"2\", \"3\", \"4\", \"5\", \"6\", \"7\", \"8\", \"9\", \"10\", \"11\", \"12\", \"13\", \"14\", \"15\", \"16\", \"17\", \"18\", \"19\", \"20\", \"21\", \"22\", \"23\", \"24\", \"25\", \"26\", \"27\", \"28\", \"29\", \"30\", \"31\", \"32\", \"33\"], \"mode\": \"markers\", \"name\": \"norm_macro_recall\", \"stepped\": false, \"type\": \"scatter\", \"data\": [0.4850936100936101, 0.5735144485144484, 0.5802045177045176, 0.5027981277981278, 0.4517450142450143, 0.44223137973137977, 0.45253357753357754, 0.40135327635327633, 0.41908323158323163, 0.5277523402523402, 0.5294566544566545, 0.48720492470492477, 0.6199379324379325, 0.029761904761904805, 0.5051892551892551, 0.49837199837199836, 0.5325345950345951, 0.6700752950752951, 0.5995624745624745, 0.027981277981277957, 0.39489214489214497, 0.6110093610093611, 0.5799247049247048, 0.4328958078958079, 0.5523504273504273, 0.43711843711843706, 0.6116707366707366, 0.542022792022792, 0.5854192104192104, 0.6835826210826211, 0.6342846967846968, 0.42389092389092387, 0.6129934879934881, 0.0]}, {\"categories\": [\"0\", \"1\", \"2\", \"3\", \"4\", \"5\", \"6\", \"7\", \"8\", \"9\", \"10\", \"11\", \"12\", \"13\", \"14\", \"15\", \"16\", \"17\", \"18\", \"19\", \"20\", \"21\", \"22\", \"23\", \"24\", \"25\", \"26\", \"27\", \"28\", \"29\", \"30\", \"31\", \"32\", \"33\"], \"mode\": \"lines\", \"name\": \"norm_macro_recall_max\", \"stepped\": true, \"type\": \"scatter\", \"data\": [0.4850936100936101, 0.5735144485144484, 0.5802045177045176, 0.5802045177045176, 0.5802045177045176, 0.5802045177045176, 0.5802045177045176, 0.5802045177045176, 0.5802045177045176, 0.5802045177045176, 0.5802045177045176, 0.5802045177045176, 0.6199379324379325, 0.6199379324379325, 0.6199379324379325, 0.6199379324379325, 0.6199379324379325, 0.6700752950752951, 0.6700752950752951, 0.6700752950752951, 0.6700752950752951, 0.6700752950752951, 0.6700752950752951, 0.6700752950752951, 0.6700752950752951, 0.6700752950752951, 0.6700752950752951, 0.6700752950752951, 0.6700752950752951, 0.6835826210826211, 0.6835826210826211, 0.6835826210826211, 0.6835826210826211, 0.6835826210826211]}], \"recall_score_macro\": [{\"categories\": [\"0\", \"1\", \"2\", \"3\", \"4\", \"5\", \"6\", \"7\", \"8\", \"9\", \"10\", \"11\", \"12\", \"13\", \"14\", \"15\", \"16\", \"17\", \"18\", \"19\", \"20\", \"21\", \"22\", \"23\", \"24\", \"25\", \"26\", \"27\", \"28\", \"29\", \"30\", \"31\", \"32\", \"33\"], \"mode\": \"markers\", \"name\": \"recall_score_macro\", \"stepped\": false, \"type\": \"scatter\", \"data\": [0.742546805046805, 0.7867572242572242, 0.7901022588522588, 0.751399063899064, 0.7258725071225071, 0.72111568986569, 0.7262667887667887, 0.7006766381766382, 0.7095416157916158, 0.7638761701261702, 0.7647283272283273, 0.7436024623524623, 0.8099689662189663, 0.5081145706145707, 0.7525946275946275, 0.7491859991859992, 0.7662672975172975, 0.8350376475376476, 0.7997812372812373, 0.5139906389906389, 0.6974460724460725, 0.8055046805046805, 0.7899623524623524, 0.716447903947904, 0.7761752136752135, 0.7185592185592186, 0.8058353683353682, 0.7710113960113961, 0.7927096052096051, 0.8417913105413106, 0.8171423483923483, 0.7119454619454619, 0.806496743996744, 0.5]}, {\"categories\": [\"0\", \"1\", \"2\", \"3\", \"4\", \"5\", \"6\", \"7\", \"8\", \"9\", \"10\", \"11\", \"12\", \"13\", \"14\", \"15\", \"16\", \"17\", \"18\", \"19\", \"20\", \"21\", \"22\", \"23\", \"24\", \"25\", \"26\", \"27\", \"28\", \"29\", \"30\", \"31\", \"32\", \"33\"], \"mode\": \"lines\", \"name\": \"recall_score_macro_max\", \"stepped\": true, \"type\": \"scatter\", \"data\": [0.742546805046805, 0.7867572242572242, 0.7901022588522588, 0.7901022588522588, 0.7901022588522588, 0.7901022588522588, 0.7901022588522588, 0.7901022588522588, 0.7901022588522588, 0.7901022588522588, 0.7901022588522588, 0.7901022588522588, 0.8099689662189663, 0.8099689662189663, 0.8099689662189663, 0.8099689662189663, 0.8099689662189663, 0.8350376475376476, 0.8350376475376476, 0.8350376475376476, 0.8350376475376476, 0.8350376475376476, 0.8350376475376476, 0.8350376475376476, 0.8350376475376476, 0.8350376475376476, 0.8350376475376476, 0.8350376475376476, 0.8350376475376476, 0.8417913105413106, 0.8417913105413106, 0.8417913105413106, 0.8417913105413106, 0.8417913105413106]}], \"precision_score_macro\": [{\"categories\": [\"0\", \"1\", \"2\", \"3\", \"4\", \"5\", \"6\", \"7\", \"8\", \"9\", \"10\", \"11\", \"12\", \"13\", \"14\", \"15\", \"16\", \"17\", \"18\", \"19\", \"20\", \"21\", \"22\", \"23\", \"24\", \"25\", \"26\", \"27\", \"28\", \"29\", \"30\", \"31\", \"32\", \"33\"], \"mode\": \"markers\", \"name\": \"precision_score_macro\", \"stepped\": false, \"type\": \"scatter\", \"data\": [0.7569624340964456, 0.7953628117913832, 0.7955277411799151, 0.8035714285714285, 0.774646272755414, 0.726775828017504, 0.7565473576343141, 0.7558560497166725, 0.7325525166066331, 0.7555880903085872, 0.7814571811630634, 0.7534491775347849, 0.8173377937033398, 0.6195716044221479, 0.7744431915816259, 0.7962809377903718, 0.7515103087374134, 0.8119891602099435, 0.8086626550387055, 0.5926470588235294, 0.7170467836257309, 0.8198093273901899, 0.8011904761904761, 0.7655551466077782, 0.7667416702624421, 0.7953134584713532, 0.8118149580915538, 0.786717831288347, 0.8054065643351357, 0.8165274540274541, 0.8259084335488581, 0.6585062875052555, 0.8104796352352742, 0.33975155279503105]}, {\"categories\": [\"0\", \"1\", \"2\", \"3\", \"4\", \"5\", \"6\", \"7\", \"8\", \"9\", \"10\", \"11\", \"12\", \"13\", \"14\", \"15\", \"16\", \"17\", \"18\", \"19\", \"20\", \"21\", \"22\", \"23\", \"24\", \"25\", \"26\", \"27\", \"28\", \"29\", \"30\", \"31\", \"32\", \"33\"], \"mode\": \"lines\", \"name\": \"precision_score_macro_max\", \"stepped\": true, \"type\": \"scatter\", \"data\": [0.7569624340964456, 0.7953628117913832, 0.7955277411799151, 0.8035714285714285, 0.8035714285714285, 0.8035714285714285, 0.8035714285714285, 0.8035714285714285, 0.8035714285714285, 0.8035714285714285, 0.8035714285714285, 0.8035714285714285, 0.8173377937033398, 0.8173377937033398, 0.8173377937033398, 0.8173377937033398, 0.8173377937033398, 0.8173377937033398, 0.8173377937033398, 0.8173377937033398, 0.8173377937033398, 0.8198093273901899, 0.8198093273901899, 0.8198093273901899, 0.8198093273901899, 0.8198093273901899, 0.8198093273901899, 0.8198093273901899, 0.8198093273901899, 0.8198093273901899, 0.8259084335488581, 0.8259084335488581, 0.8259084335488581, 0.8259084335488581]}], \"weighted_accuracy\": [{\"categories\": [\"0\", \"1\", \"2\", \"3\", \"4\", \"5\", \"6\", \"7\", \"8\", \"9\", \"10\", \"11\", \"12\", \"13\", \"14\", \"15\", \"16\", \"17\", \"18\", \"19\", \"20\", \"21\", \"22\", \"23\", \"24\", \"25\", \"26\", \"27\", \"28\", \"29\", \"30\", \"31\", \"32\", \"33\"], \"mode\": \"markers\", \"name\": \"weighted_accuracy\", \"stepped\": false, \"type\": \"scatter\", \"data\": [0.8167770993615028, 0.8424036507822809, 0.8256004401812921, 0.8505377659350417, 0.8299028320792402, 0.792444565441945, 0.8114334626256144, 0.8221070207556985, 0.8020963610239655, 0.8080539463760547, 0.8342501591066892, 0.8062023223640478, 0.8590327053652951, 0.7786822578926872, 0.8329017535462301, 0.8456077100792001, 0.7915196432012164, 0.8398593266557836, 0.8574910977860496, 0.8070241243790846, 0.7906707357364611, 0.8623113938898852, 0.8481280012886656, 0.8268927204587815, 0.8147311971510165, 0.8503690463432324, 0.853228183438028, 0.8365502829889863, 0.8467852436884639, 0.843835617597447, 0.8625312306950352, 0.827483804883809, 0.8532039257660237, 0.8082168778662703]}, {\"categories\": [\"0\", \"1\", \"2\", \"3\", \"4\", \"5\", \"6\", \"7\", \"8\", \"9\", \"10\", \"11\", \"12\", \"13\", \"14\", \"15\", \"16\", \"17\", \"18\", \"19\", \"20\", \"21\", \"22\", \"23\", \"24\", \"25\", \"26\", \"27\", \"28\", \"29\", \"30\", \"31\", \"32\", \"33\"], \"mode\": \"lines\", \"name\": \"weighted_accuracy_max\", \"stepped\": true, \"type\": \"scatter\", \"data\": [0.8167770993615028, 0.8424036507822809, 0.8424036507822809, 0.8505377659350417, 0.8505377659350417, 0.8505377659350417, 0.8505377659350417, 0.8505377659350417, 0.8505377659350417, 0.8505377659350417, 0.8505377659350417, 0.8505377659350417, 0.8590327053652951, 0.8590327053652951, 0.8590327053652951, 0.8590327053652951, 0.8590327053652951, 0.8590327053652951, 0.8590327053652951, 0.8590327053652951, 0.8590327053652951, 0.8623113938898852, 0.8623113938898852, 0.8623113938898852, 0.8623113938898852, 0.8623113938898852, 0.8623113938898852, 0.8623113938898852, 0.8623113938898852, 0.8623113938898852, 0.8625312306950352, 0.8625312306950352, 0.8625312306950352, 0.8625312306950352]}], \"accuracy\": [{\"categories\": [\"0\", \"1\", \"2\", \"3\", \"4\", \"5\", \"6\", \"7\", \"8\", \"9\", \"10\", \"11\", \"12\", \"13\", \"14\", \"15\", \"16\", \"17\", \"18\", \"19\", \"20\", \"21\", \"22\", \"23\", \"24\", \"25\", \"26\", \"27\", \"28\", \"29\", \"30\", \"31\", \"32\", \"33\"], \"mode\": \"markers\", \"name\": \"accuracy\", \"stepped\": false, \"type\": \"scatter\", \"data\": [0.7846790890269152, 0.8181504485852312, 0.8087646652864043, 0.8086956521739131, 0.7846790890269152, 0.7607315389924084, 0.7749482401656315, 0.7701863354037267, 0.760662525879917, 0.7893719806763285, 0.8037267080745342, 0.7797791580400277, 0.8371980676328503, 0.6652173913043479, 0.7988267770876467, 0.803864734299517, 0.7799171842650104, 0.8371290545203589, 0.8322291235334713, 0.6843340234644583, 0.7511387163561075, 0.8371980676328503, 0.822912353347136, 0.7799861973775016, 0.7989648033126294, 0.794064872325742, 0.8325741890959281, 0.8084886128364389, 0.8229813664596274, 0.8420979986197378, 0.8420979986197378, 0.7752242926155969, 0.8323671497584542, 0.6795031055900621]}, {\"categories\": [\"0\", \"1\", \"2\", \"3\", \"4\", \"5\", \"6\", \"7\", \"8\", \"9\", \"10\", \"11\", \"12\", \"13\", \"14\", \"15\", \"16\", \"17\", \"18\", \"19\", \"20\", \"21\", \"22\", \"23\", \"24\", \"25\", \"26\", \"27\", \"28\", \"29\", \"30\", \"31\", \"32\", \"33\"], \"mode\": \"lines\", \"name\": \"accuracy_max\", \"stepped\": true, \"type\": \"scatter\", \"data\": [0.7846790890269152, 0.8181504485852312, 0.8181504485852312, 0.8181504485852312, 0.8181504485852312, 0.8181504485852312, 0.8181504485852312, 0.8181504485852312, 0.8181504485852312, 0.8181504485852312, 0.8181504485852312, 0.8181504485852312, 0.8371980676328503, 0.8371980676328503, 0.8371980676328503, 0.8371980676328503, 0.8371980676328503, 0.8371980676328503, 0.8371980676328503, 0.8371980676328503, 0.8371980676328503, 0.8371980676328503, 0.8371980676328503, 0.8371980676328503, 0.8371980676328503, 0.8371980676328503, 0.8371980676328503, 0.8371980676328503, 0.8371980676328503, 0.8420979986197378, 0.8420979986197378, 0.8420979986197378, 0.8420979986197378, 0.8420979986197378]}], \"AUC_micro\": [{\"categories\": [\"0\", \"1\", \"2\", \"3\", \"4\", \"5\", \"6\", \"7\", \"8\", \"9\", \"10\", \"11\", \"12\", \"13\", \"14\", \"15\", \"16\", \"17\", \"18\", \"19\", \"20\", \"21\", \"22\", \"23\", \"24\", \"25\", \"26\", \"27\", \"28\", \"29\", \"30\", \"31\", \"32\", \"33\"], \"mode\": \"markers\", \"name\": \"AUC_micro\", \"stepped\": false, \"type\": \"scatter\", \"data\": [0.8887179707001472, 0.8912349775028683, 0.8873539401057631, 0.8958332726075097, 0.8835121530233602, 0.8580228100481948, 0.8792497860307744, 0.8731705309723133, 0.8600665983679757, 0.8798560869422333, 0.887135955831608, 0.8604370401804915, 0.9022345245596664, 0.7949621142302751, 0.8870033877865366, 0.8944034509413932, 0.8407141213973514, 0.9008700224471221, 0.8978931997079446, 0.8126700358782455, 0.8448851281743531, 0.9096892123789235, 0.900369984582785, 0.8724743701303247, 0.8878882559114804, 0.8722772469626373, 0.8996623929975267, 0.8904146787889701, 0.9019033187734241, 0.8872869273733438, 0.9043825898349257, 0.8633304184937995, 0.9136844429012941, 0.8561225204217372]}, {\"categories\": [\"0\", \"1\", \"2\", \"3\", \"4\", \"5\", \"6\", \"7\", \"8\", \"9\", \"10\", \"11\", \"12\", \"13\", \"14\", \"15\", \"16\", \"17\", \"18\", \"19\", \"20\", \"21\", \"22\", \"23\", \"24\", \"25\", \"26\", \"27\", \"28\", \"29\", \"30\", \"31\", \"32\", \"33\"], \"mode\": \"lines\", \"name\": \"AUC_micro_max\", \"stepped\": true, \"type\": \"scatter\", \"data\": [0.8887179707001472, 0.8912349775028683, 0.8912349775028683, 0.8958332726075097, 0.8958332726075097, 0.8958332726075097, 0.8958332726075097, 0.8958332726075097, 0.8958332726075097, 0.8958332726075097, 0.8958332726075097, 0.8958332726075097, 0.9022345245596664, 0.9022345245596664, 0.9022345245596664, 0.9022345245596664, 0.9022345245596664, 0.9022345245596664, 0.9022345245596664, 0.9022345245596664, 0.9022345245596664, 0.9096892123789235, 0.9096892123789235, 0.9096892123789235, 0.9096892123789235, 0.9096892123789235, 0.9096892123789235, 0.9096892123789235, 0.9096892123789235, 0.9096892123789235, 0.9096892123789235, 0.9096892123789235, 0.9136844429012941, 0.9136844429012941]}], \"f1_score_micro\": [{\"categories\": [\"0\", \"1\", \"2\", \"3\", \"4\", \"5\", \"6\", \"7\", \"8\", \"9\", \"10\", \"11\", \"12\", \"13\", \"14\", \"15\", \"16\", \"17\", \"18\", \"19\", \"20\", \"21\", \"22\", \"23\", \"24\", \"25\", \"26\", \"27\", \"28\", \"29\", \"30\", \"31\", \"32\", \"33\"], \"mode\": \"markers\", \"name\": \"f1_score_micro\", \"stepped\": false, \"type\": \"scatter\", \"data\": [0.7846790890269152, 0.8181504485852313, 0.8087646652864043, 0.8086956521739131, 0.7846790890269152, 0.7607315389924084, 0.7749482401656315, 0.7701863354037267, 0.760662525879917, 0.7893719806763285, 0.8037267080745342, 0.7797791580400277, 0.8371980676328503, 0.6652173913043479, 0.7988267770876467, 0.803864734299517, 0.7799171842650104, 0.8371290545203589, 0.8322291235334713, 0.6843340234644583, 0.7511387163561075, 0.8371980676328503, 0.8229123533471361, 0.7799861973775016, 0.7989648033126294, 0.794064872325742, 0.8325741890959283, 0.8084886128364389, 0.8229813664596274, 0.8420979986197378, 0.8420979986197378, 0.7752242926155969, 0.8323671497584542, 0.6795031055900621]}, {\"categories\": [\"0\", \"1\", \"2\", \"3\", \"4\", \"5\", \"6\", \"7\", \"8\", \"9\", \"10\", \"11\", \"12\", \"13\", \"14\", \"15\", \"16\", \"17\", \"18\", \"19\", \"20\", \"21\", \"22\", \"23\", \"24\", \"25\", \"26\", \"27\", \"28\", \"29\", \"30\", \"31\", \"32\", \"33\"], \"mode\": \"lines\", \"name\": \"f1_score_micro_max\", \"stepped\": true, \"type\": \"scatter\", \"data\": [0.7846790890269152, 0.8181504485852313, 0.8181504485852313, 0.8181504485852313, 0.8181504485852313, 0.8181504485852313, 0.8181504485852313, 0.8181504485852313, 0.8181504485852313, 0.8181504485852313, 0.8181504485852313, 0.8181504485852313, 0.8371980676328503, 0.8371980676328503, 0.8371980676328503, 0.8371980676328503, 0.8371980676328503, 0.8371980676328503, 0.8371980676328503, 0.8371980676328503, 0.8371980676328503, 0.8371980676328503, 0.8371980676328503, 0.8371980676328503, 0.8371980676328503, 0.8371980676328503, 0.8371980676328503, 0.8371980676328503, 0.8371980676328503, 0.8420979986197378, 0.8420979986197378, 0.8420979986197378, 0.8420979986197378, 0.8420979986197378]}], \"recall_score_weighted\": [{\"categories\": [\"0\", \"1\", \"2\", \"3\", \"4\", \"5\", \"6\", \"7\", \"8\", \"9\", \"10\", \"11\", \"12\", \"13\", \"14\", \"15\", \"16\", \"17\", \"18\", \"19\", \"20\", \"21\", \"22\", \"23\", \"24\", \"25\", \"26\", \"27\", \"28\", \"29\", \"30\", \"31\", \"32\", \"33\"], \"mode\": \"markers\", \"name\": \"recall_score_weighted\", \"stepped\": false, \"type\": \"scatter\", \"data\": [0.7846790890269152, 0.8181504485852312, 0.8087646652864043, 0.8086956521739131, 0.7846790890269152, 0.7607315389924084, 0.7749482401656315, 0.7701863354037267, 0.760662525879917, 0.7893719806763285, 0.8037267080745342, 0.7797791580400277, 0.8371980676328503, 0.6652173913043479, 0.7988267770876467, 0.803864734299517, 0.7799171842650104, 0.8371290545203589, 0.8322291235334713, 0.6843340234644583, 0.7511387163561075, 0.8371980676328503, 0.822912353347136, 0.7799861973775016, 0.7989648033126294, 0.794064872325742, 0.8325741890959281, 0.8084886128364389, 0.8229813664596274, 0.8420979986197378, 0.8420979986197378, 0.7752242926155969, 0.8323671497584542, 0.6795031055900621]}, {\"categories\": [\"0\", \"1\", \"2\", \"3\", \"4\", \"5\", \"6\", \"7\", \"8\", \"9\", \"10\", \"11\", \"12\", \"13\", \"14\", \"15\", \"16\", \"17\", \"18\", \"19\", \"20\", \"21\", \"22\", \"23\", \"24\", \"25\", \"26\", \"27\", \"28\", \"29\", \"30\", \"31\", \"32\", \"33\"], \"mode\": \"lines\", \"name\": \"recall_score_weighted_max\", \"stepped\": true, \"type\": \"scatter\", \"data\": [0.7846790890269152, 0.8181504485852312, 0.8181504485852312, 0.8181504485852312, 0.8181504485852312, 0.8181504485852312, 0.8181504485852312, 0.8181504485852312, 0.8181504485852312, 0.8181504485852312, 0.8181504485852312, 0.8181504485852312, 0.8371980676328503, 0.8371980676328503, 0.8371980676328503, 0.8371980676328503, 0.8371980676328503, 0.8371980676328503, 0.8371980676328503, 0.8371980676328503, 0.8371980676328503, 0.8371980676328503, 0.8371980676328503, 0.8371980676328503, 0.8371980676328503, 0.8371980676328503, 0.8371980676328503, 0.8371980676328503, 0.8371980676328503, 0.8420979986197378, 0.8420979986197378, 0.8420979986197378, 0.8420979986197378, 0.8420979986197378]}], \"f1_score_macro\": [{\"categories\": [\"0\", \"1\", \"2\", \"3\", \"4\", \"5\", \"6\", \"7\", \"8\", \"9\", \"10\", \"11\", \"12\", \"13\", \"14\", \"15\", \"16\", \"17\", \"18\", \"19\", \"20\", \"21\", \"22\", \"23\", \"24\", \"25\", \"26\", \"27\", \"28\", \"29\", \"30\", \"31\", \"32\", \"33\"], \"mode\": \"markers\", \"name\": \"f1_score_macro\", \"stepped\": false, \"type\": \"scatter\", \"data\": [0.7428875721107827, 0.7856839096435092, 0.7764176918648159, 0.7598261526832956, 0.7286913531963037, 0.7148615030193977, 0.7288709509550929, 0.7069899997446626, 0.698965197351137, 0.7581120007929586, 0.7653530110004594, 0.7412568588786845, 0.807865045007902, 0.4489266211588458, 0.7575015803440691, 0.7556265425784522, 0.7520693901469118, 0.8180620900543699, 0.7994699874845784, 0.4364158829676071, 0.6996888131561111, 0.8052954186758995, 0.7906447534297216, 0.722729051672521, 0.769400166412764, 0.7299588304375174, 0.8038931471156926, 0.7731495285288478, 0.7908399241409335, 0.8230140763305305, 0.8148453143810656, 0.6733628974491338, 0.8031632653061225, 0.40382863948437714]}, {\"categories\": [\"0\", \"1\", \"2\", \"3\", \"4\", \"5\", \"6\", \"7\", \"8\", \"9\", \"10\", \"11\", \"12\", \"13\", \"14\", \"15\", \"16\", \"17\", \"18\", \"19\", \"20\", \"21\", \"22\", \"23\", \"24\", \"25\", \"26\", \"27\", \"28\", \"29\", \"30\", \"31\", \"32\", \"33\"], \"mode\": \"lines\", \"name\": \"f1_score_macro_max\", \"stepped\": true, \"type\": \"scatter\", \"data\": [0.7428875721107827, 0.7856839096435092, 0.7856839096435092, 0.7856839096435092, 0.7856839096435092, 0.7856839096435092, 0.7856839096435092, 0.7856839096435092, 0.7856839096435092, 0.7856839096435092, 0.7856839096435092, 0.7856839096435092, 0.807865045007902, 0.807865045007902, 0.807865045007902, 0.807865045007902, 0.807865045007902, 0.8180620900543699, 0.8180620900543699, 0.8180620900543699, 0.8180620900543699, 0.8180620900543699, 0.8180620900543699, 0.8180620900543699, 0.8180620900543699, 0.8180620900543699, 0.8180620900543699, 0.8180620900543699, 0.8180620900543699, 0.8230140763305305, 0.8230140763305305, 0.8230140763305305, 0.8230140763305305, 0.8230140763305305]}], \"average_precision_score_weighted\": [{\"categories\": [\"0\", \"1\", \"2\", \"3\", \"4\", \"5\", \"6\", \"7\", \"8\", \"9\", \"10\", \"11\", \"12\", \"13\", \"14\", \"15\", \"16\", \"17\", \"18\", \"19\", \"20\", \"21\", \"22\", \"23\", \"24\", \"25\", \"26\", \"27\", \"28\", \"29\", \"30\", \"31\", \"32\", \"33\"], \"mode\": \"markers\", \"name\": \"average_precision_score_weighted\", \"stepped\": false, \"type\": \"scatter\", \"data\": [0.880066925498713, 0.8832217274969182, 0.8749122458823457, 0.8959058174173545, 0.8818828775074005, 0.8444948598234999, 0.8710880068768917, 0.8753623318598526, 0.8473911216318643, 0.8755875358801468, 0.8780665591041227, 0.8552361327252614, 0.8940902082838069, 0.7973026927508853, 0.8730405987614637, 0.907894326027925, 0.851306000221129, 0.8875615182885709, 0.8748277776836892, 0.8277950184948861, 0.8461361023720637, 0.8992119759493775, 0.8916663696343304, 0.8669613266812858, 0.8675734888946717, 0.8748017045459968, 0.8935323568930524, 0.8804299369390374, 0.8900138986355652, 0.8956667924957314, 0.9060040835059664, 0.8694867423481721, 0.9219293057278616, 0.9121895594528725]}, {\"categories\": [\"0\", \"1\", \"2\", \"3\", \"4\", \"5\", \"6\", \"7\", \"8\", \"9\", \"10\", \"11\", \"12\", \"13\", \"14\", \"15\", \"16\", \"17\", \"18\", \"19\", \"20\", \"21\", \"22\", \"23\", \"24\", \"25\", \"26\", \"27\", \"28\", \"29\", \"30\", \"31\", \"32\", \"33\"], \"mode\": \"lines\", \"name\": \"average_precision_score_weighted_max\", \"stepped\": true, \"type\": \"scatter\", \"data\": [0.880066925498713, 0.8832217274969182, 0.8832217274969182, 0.8959058174173545, 0.8959058174173545, 0.8959058174173545, 0.8959058174173545, 0.8959058174173545, 0.8959058174173545, 0.8959058174173545, 0.8959058174173545, 0.8959058174173545, 0.8959058174173545, 0.8959058174173545, 0.8959058174173545, 0.907894326027925, 0.907894326027925, 0.907894326027925, 0.907894326027925, 0.907894326027925, 0.907894326027925, 0.907894326027925, 0.907894326027925, 0.907894326027925, 0.907894326027925, 0.907894326027925, 0.907894326027925, 0.907894326027925, 0.907894326027925, 0.907894326027925, 0.907894326027925, 0.907894326027925, 0.9219293057278616, 0.9219293057278616]}], \"log_loss\": [{\"categories\": [\"0\", \"1\", \"2\", \"3\", \"4\", \"5\", \"6\", \"7\", \"8\", \"9\", \"10\", \"11\", \"12\", \"13\", \"14\", \"15\", \"16\", \"17\", \"18\", \"19\", \"20\", \"21\", \"22\", \"23\", \"24\", \"25\", \"26\", \"27\", \"28\", \"29\", \"30\", \"31\", \"32\", \"33\"], \"mode\": \"markers\", \"name\": \"log_loss\", \"stepped\": false, \"type\": \"scatter\", \"data\": [0.5373468930321116, 0.4907394488197881, 0.422159538825785, 0.42160720645019484, 0.43350597541753766, 0.4890845648983393, 0.4352353852041901, 0.4907582310327987, 0.49519005745602457, 0.4975012027018691, 0.420053713693644, 0.471336881372133, 0.39939406330056787, 0.5706428649070289, 0.41655520059080375, 0.44392393387238965, 0.604383763514515, 0.3992464061516243, 0.46219292141423013, 0.5576333545819055, 0.5973223856945428, 0.4508023269428143, 0.40317826475846624, 0.449143932122637, 0.5319856040436882, 0.46558676223618917, 0.4029012575496382, 0.4153033480906065, 0.4083826439665999, 0.42933013912826423, 0.3921710971162067, 0.49233106698189566, 0.4129146666687818, 0.6369497630091807]}, {\"categories\": [\"0\", \"1\", \"2\", \"3\", \"4\", \"5\", \"6\", \"7\", \"8\", \"9\", \"10\", \"11\", \"12\", \"13\", \"14\", \"15\", \"16\", \"17\", \"18\", \"19\", \"20\", \"21\", \"22\", \"23\", \"24\", \"25\", \"26\", \"27\", \"28\", \"29\", \"30\", \"31\", \"32\", \"33\"], \"mode\": \"lines\", \"name\": \"log_loss_min\", \"stepped\": true, \"type\": \"scatter\", \"data\": [0.5373468930321116, 0.4907394488197881, 0.422159538825785, 0.42160720645019484, 0.42160720645019484, 0.42160720645019484, 0.42160720645019484, 0.42160720645019484, 0.42160720645019484, 0.42160720645019484, 0.420053713693644, 0.420053713693644, 0.39939406330056787, 0.39939406330056787, 0.39939406330056787, 0.39939406330056787, 0.39939406330056787, 0.3992464061516243, 0.3992464061516243, 0.3992464061516243, 0.3992464061516243, 0.3992464061516243, 0.3992464061516243, 0.3992464061516243, 0.3992464061516243, 0.3992464061516243, 0.3992464061516243, 0.3992464061516243, 0.3992464061516243, 0.3992464061516243, 0.3921710971162067, 0.3921710971162067, 0.3921710971162067, 0.3921710971162067]}], \"f1_score_weighted\": [{\"categories\": [\"0\", \"1\", \"2\", \"3\", \"4\", \"5\", \"6\", \"7\", \"8\", \"9\", \"10\", \"11\", \"12\", \"13\", \"14\", \"15\", \"16\", \"17\", \"18\", \"19\", \"20\", \"21\", \"22\", \"23\", \"24\", \"25\", \"26\", \"27\", \"28\", \"29\", \"30\", \"31\", \"32\", \"33\"], \"mode\": \"markers\", \"name\": \"f1_score_weighted\", \"stepped\": false, \"type\": \"scatter\", \"data\": [0.7806178224447266, 0.8162880049094866, 0.8051989212898851, 0.7989261888330211, 0.7701479746766013, 0.7532003694246256, 0.7674343355066725, 0.7562323279515861, 0.7435702328846862, 0.790977932671865, 0.7979090998202416, 0.7785086587390309, 0.834836193941784, 0.5733688697729243, 0.7953169132215082, 0.7930125984612179, 0.7834206964860515, 0.8400533087392086, 0.8289700681386569, 0.5701743284202054, 0.7470385291270216, 0.8336112379170002, 0.8205994720171405, 0.7673432124037172, 0.8009051643839795, 0.7763627379647042, 0.8310416870702301, 0.8055671419611143, 0.8205178060171145, 0.8454979652958495, 0.8391281838849647, 0.72178359334891, 0.8304685004436557, 0.5513489322113698]}, {\"categories\": [\"0\", \"1\", \"2\", \"3\", \"4\", \"5\", \"6\", \"7\", \"8\", \"9\", \"10\", \"11\", \"12\", \"13\", \"14\", \"15\", \"16\", \"17\", \"18\", \"19\", \"20\", \"21\", \"22\", \"23\", \"24\", \"25\", \"26\", \"27\", \"28\", \"29\", \"30\", \"31\", \"32\", \"33\"], \"mode\": \"lines\", \"name\": \"f1_score_weighted_max\", \"stepped\": true, \"type\": \"scatter\", \"data\": [0.7806178224447266, 0.8162880049094866, 0.8162880049094866, 0.8162880049094866, 0.8162880049094866, 0.8162880049094866, 0.8162880049094866, 0.8162880049094866, 0.8162880049094866, 0.8162880049094866, 0.8162880049094866, 0.8162880049094866, 0.834836193941784, 0.834836193941784, 0.834836193941784, 0.834836193941784, 0.834836193941784, 0.8400533087392086, 0.8400533087392086, 0.8400533087392086, 0.8400533087392086, 0.8400533087392086, 0.8400533087392086, 0.8400533087392086, 0.8400533087392086, 0.8400533087392086, 0.8400533087392086, 0.8400533087392086, 0.8400533087392086, 0.8454979652958495, 0.8454979652958495, 0.8454979652958495, 0.8454979652958495, 0.8454979652958495]}]}, \"metricName\": null, \"primaryMetricName\": \"AUC_weighted\", \"showLegend\": false}, \"run_metrics\": [{\"name\": \"experiment_status\", \"run_id\": \"AutoML_26088775-977d-493c-87b1-c1d800a399a7\", \"categories\": [0, 1, 2, 3, 4, 5, 6, 7, 8, 9, 10, 11, 12, 13], \"series\": [{\"data\": [\"DatasetEvaluation\", \"FeaturesGeneration\", \"DatasetFeaturization\", \"DatasetFeaturizationCompleted\", \"DatasetCrossValidationSplit\", \"ModelSelection\", \"BestRunExplainModel\", \"ModelExplanationDataSetSetup\", \"PickSurrogateModel\", \"EngineeredFeatureExplanations\", \"EngineeredFeatureExplanations\", \"RawFeaturesExplanations\", \"RawFeaturesExplanations\", \"BestRunExplainModel\"]}]}, {\"name\": \"experiment_status_description\", \"run_id\": \"AutoML_26088775-977d-493c-87b1-c1d800a399a7\", \"categories\": [0, 1, 2, 3, 4, 5, 6, 7, 8, 9, 10, 11, 12, 13], \"series\": [{\"data\": [\"Gathering dataset statistics.\", \"Generating features for the dataset.\", \"Beginning to fit featurizers and featurize the dataset.\", \"Completed fit featurizers and featurizing the dataset.\", \"Generating individually featurized CV splits.\", \"Beginning model selection.\", \"Best run model explanations started\", \"Model explanations data setup completed\", \"Choosing LightGBM as the surrogate model for explanations\", \"Computation of engineered features started\", \"Computation of engineered features completed\", \"Computation of raw features started\", \"Computation of raw features completed\", \"Best run model explanations completed\"]}]}, {\"name\": \"average_precision_score_macro\", \"run_id\": \"AutoML_26088775-977d-493c-87b1-c1d800a399a7\", \"categories\": [0], \"series\": [{\"data\": [0.8973207741461571]}]}, {\"name\": \"weighted_accuracy\", \"run_id\": \"AutoML_26088775-977d-493c-87b1-c1d800a399a7\", \"categories\": [0], \"series\": [{\"data\": [0.8532039257660237]}]}, {\"name\": \"f1_score_weighted\", \"run_id\": \"AutoML_26088775-977d-493c-87b1-c1d800a399a7\", \"categories\": [0], \"series\": [{\"data\": [0.8304685004436557]}]}, {\"name\": \"accuracy\", \"run_id\": \"AutoML_26088775-977d-493c-87b1-c1d800a399a7\", \"categories\": [0], \"series\": [{\"data\": [0.8323671497584542]}]}, {\"name\": \"recall_score_micro\", \"run_id\": \"AutoML_26088775-977d-493c-87b1-c1d800a399a7\", \"categories\": [0], \"series\": [{\"data\": [0.8323671497584542]}]}, {\"name\": \"precision_score_micro\", \"run_id\": \"AutoML_26088775-977d-493c-87b1-c1d800a399a7\", \"categories\": [0], \"series\": [{\"data\": [0.8323671497584542]}]}, {\"name\": \"AUC_micro\", \"run_id\": \"AutoML_26088775-977d-493c-87b1-c1d800a399a7\", \"categories\": [0], \"series\": [{\"data\": [0.9136844429012941]}]}, {\"name\": \"average_precision_score_weighted\", \"run_id\": \"AutoML_26088775-977d-493c-87b1-c1d800a399a7\", \"categories\": [0], \"series\": [{\"data\": [0.9219293057278616]}]}, {\"name\": \"recall_score_macro\", \"run_id\": \"AutoML_26088775-977d-493c-87b1-c1d800a399a7\", \"categories\": [0], \"series\": [{\"data\": [0.806496743996744]}]}, {\"name\": \"matthews_correlation\", \"run_id\": \"AutoML_26088775-977d-493c-87b1-c1d800a399a7\", \"categories\": [0], \"series\": [{\"data\": [0.6160062286846456]}]}, {\"name\": \"AUC_macro\", \"run_id\": \"AutoML_26088775-977d-493c-87b1-c1d800a399a7\", \"categories\": [0], \"series\": [{\"data\": [0.9184400255828827]}]}, {\"name\": \"precision_score_weighted\", \"run_id\": \"AutoML_26088775-977d-493c-87b1-c1d800a399a7\", \"categories\": [0], \"series\": [{\"data\": [0.8373039081800115]}]}, {\"name\": \"log_loss\", \"run_id\": \"AutoML_26088775-977d-493c-87b1-c1d800a399a7\", \"categories\": [0], \"series\": [{\"data\": [0.4129146666687818]}]}, {\"name\": \"f1_score_macro\", \"run_id\": \"AutoML_26088775-977d-493c-87b1-c1d800a399a7\", \"categories\": [0], \"series\": [{\"data\": [0.8031632653061225]}]}, {\"name\": \"average_precision_score_micro\", \"run_id\": \"AutoML_26088775-977d-493c-87b1-c1d800a399a7\", \"categories\": [0], \"series\": [{\"data\": [0.9177960660653732]}]}, {\"name\": \"AUC_weighted\", \"run_id\": \"AutoML_26088775-977d-493c-87b1-c1d800a399a7\", \"categories\": [0], \"series\": [{\"data\": [0.9184400255828827]}]}, {\"name\": \"f1_score_micro\", \"run_id\": \"AutoML_26088775-977d-493c-87b1-c1d800a399a7\", \"categories\": [0], \"series\": [{\"data\": [0.8323671497584542]}]}, {\"name\": \"norm_macro_recall\", \"run_id\": \"AutoML_26088775-977d-493c-87b1-c1d800a399a7\", \"categories\": [0], \"series\": [{\"data\": [0.6129934879934881]}]}, {\"name\": \"precision_score_macro\", \"run_id\": \"AutoML_26088775-977d-493c-87b1-c1d800a399a7\", \"categories\": [0], \"series\": [{\"data\": [0.8104796352352742]}]}, {\"name\": \"recall_score_weighted\", \"run_id\": \"AutoML_26088775-977d-493c-87b1-c1d800a399a7\", \"categories\": [0], \"series\": [{\"data\": [0.8323671497584542]}]}, {\"name\": \"balanced_accuracy\", \"run_id\": \"AutoML_26088775-977d-493c-87b1-c1d800a399a7\", \"categories\": [0], \"series\": [{\"data\": [0.806496743996744]}]}], \"run_logs\": \"\\nRun is completed.\", \"graph\": {}, \"widget_settings\": {\"childWidgetDisplay\": \"popup\", \"send_telemetry\": false, \"log_level\": \"INFO\", \"sdk_version\": \"1.34.0\"}, \"loading\": false}"
     },
     "metadata": {},
     "output_type": "display_data"
    }
   ],
   "source": [
    "from azureml.widgets import RunDetails\n",
    "RunDetails(remote_run).show()"
   ]
  },
  {
   "cell_type": "code",
   "execution_count": 15,
   "id": "8a298c47",
   "metadata": {},
   "outputs": [
    {
     "data": {
      "text/plain": [
       "PipelineWithYTransformations(Pipeline={'memory': None,\n",
       "                                       'steps': [('datatransformer',\n",
       "                                                  DataTransformer(enable_dnn=False, enable_feature_sweeping=True, feature_sweeping_config={}, feature_sweeping_timeout=86400, featurization_config=None, force_text_dnn=False, is_cross_validation=True, is_onnx_compatible=False, observer=None, task='classification', working_dir='/mn...\n",
       "), random_state=None, reg_alpha=0.6842105263157894, reg_lambda=0.15789473684210525, subsample=1))], verbose=False))], flatten_transform=None, weights=[0.13333333333333333, 0.06666666666666667, 0.13333333333333333, 0.06666666666666667, 0.13333333333333333, 0.13333333333333333, 0.06666666666666667, 0.26666666666666666]))],\n",
       "                                       'verbose': False},\n",
       "                             y_transformer={},\n",
       "                             y_transformer_name='LabelEncoder')"
      ]
     },
     "execution_count": 15,
     "metadata": {},
     "output_type": "execute_result"
    }
   ],
   "source": [
    "best_run, fitted_model = remote_run.get_output()\n",
    "fitted_model"
   ]
  },
  {
   "cell_type": "code",
   "execution_count": 16,
   "id": "caf318d5",
   "metadata": {},
   "outputs": [
    {
     "data": {
      "text/plain": [
       "Model(workspace=Workspace.create(name='ex-1-workspace', subscription_id='7ee37d15-c46a-4653-9184-c5d6f9009da9', resource_group='example-1'), name=Heart_prediction_automl, id=Heart_prediction_automl:7, version=7, tags={'project': 'Heart diease', 'creator': 'Dhanush Kobal', 'metric': 'AUC_weighted'}, properties={})"
      ]
     },
     "execution_count": 16,
     "metadata": {},
     "output_type": "execute_result"
    }
   ],
   "source": [
    "# register the model\n",
    "description = 'Best AutoML for Heart diease'\n",
    "tags = {'project' : \"Heart diease\", \"creator\" : \"Dhanush Kobal\",\n",
    "       'metric': 'AUC_weighted'}\n",
    "model_name = 'Heart_prediction_automl'\n",
    "\n",
    "remote_run.register_model(model_name=model_name,\n",
    "                          description=description, tags=tags)"
   ]
  },
  {
   "cell_type": "code",
   "execution_count": 17,
   "id": "8bca8d29",
   "metadata": {},
   "outputs": [],
   "source": [
    "# we will now upload the test data and predict values\n",
    "dataset_name_test = \"Heart_data_test_1\" # the dataset you uploaded into Azure\n",
    "test_data = Dataset.get_by_name(ws, dataset_name_test, version='latest')"
   ]
  },
  {
   "cell_type": "code",
   "execution_count": 20,
   "id": "23440954",
   "metadata": {},
   "outputs": [
    {
     "name": "stdout",
     "output_type": "stream",
     "text": [
      "<class 'pandas.core.frame.DataFrame'>\n",
      "RangeIndex: 209 entries, 0 to 208\n",
      "Data columns (total 18 columns):\n",
      "age                         209 non-null float64\n",
      "anaemia                     209 non-null object\n",
      "creatinine_phosphokinase    209 non-null int64\n",
      "diabetes                    209 non-null object\n",
      "ejection_fraction           209 non-null int64\n",
      "high_blood_pressure         209 non-null object\n",
      "platelets                   209 non-null float64\n",
      "serum_creatinine            209 non-null float64\n",
      "serum_sodium                209 non-null int64\n",
      "sex                         209 non-null object\n",
      "smoking                     209 non-null object\n",
      "time                        209 non-null int64\n",
      "age_cat                     209 non-null object\n",
      "age_death_event             209 non-null object\n",
      "ejection_death_event        209 non-null object\n",
      "platelets_death_event       209 non-null object\n",
      "serum_death_event           209 non-null object\n",
      "y_train                     209 non-null bool\n",
      "dtypes: bool(1), float64(3), int64(4), object(10)\n",
      "memory usage: 28.1+ KB\n"
     ]
    }
   ],
   "source": [
    "train_data.to_pandas_dataframe().info()"
   ]
  },
  {
   "cell_type": "code",
   "execution_count": 21,
   "id": "3d41c725",
   "metadata": {},
   "outputs": [
    {
     "name": "stdout",
     "output_type": "stream",
     "text": [
      "<class 'pandas.core.frame.DataFrame'>\n",
      "RangeIndex: 90 entries, 0 to 89\n",
      "Data columns (total 17 columns):\n",
      "age                         90 non-null float64\n",
      "anaemia                     90 non-null object\n",
      "creatinine_phosphokinase    90 non-null int64\n",
      "diabetes                    90 non-null object\n",
      "ejection_fraction           90 non-null int64\n",
      "high_blood_pressure         90 non-null object\n",
      "platelets                   90 non-null float64\n",
      "serum_creatinine            90 non-null float64\n",
      "serum_sodium                90 non-null int64\n",
      "sex                         90 non-null object\n",
      "smoking                     90 non-null object\n",
      "time                        90 non-null int64\n",
      "age_cat                     90 non-null object\n",
      "age_death_event             90 non-null object\n",
      "ejection_death_event        90 non-null object\n",
      "platelets_death_event       90 non-null object\n",
      "serum_death_event           90 non-null object\n",
      "dtypes: float64(3), int64(4), object(10)\n",
      "memory usage: 12.1+ KB\n"
     ]
    }
   ],
   "source": [
    "test_data.to_pandas_dataframe().info()"
   ]
  },
  {
   "cell_type": "code",
   "execution_count": 22,
   "id": "ccd29646",
   "metadata": {},
   "outputs": [],
   "source": [
    "y_pred = fitted_model.predict(test_data.to_pandas_dataframe())"
   ]
  },
  {
   "cell_type": "code",
   "execution_count": 23,
   "id": "d32768a8",
   "metadata": {},
   "outputs": [
    {
     "data": {
      "text/plain": [
       "array([False, False,  True, False, False, False, False, False, False,\n",
       "       False, False, False,  True, False,  True, False, False, False,\n",
       "       False,  True, False,  True, False,  True, False,  True, False,\n",
       "       False, False, False, False, False, False,  True, False, False,\n",
       "       False, False, False, False, False, False, False,  True, False,\n",
       "       False, False, False, False, False,  True, False,  True, False,\n",
       "        True, False, False,  True, False, False, False, False, False,\n",
       "       False,  True, False, False, False, False, False, False, False,\n",
       "       False,  True, False,  True,  True, False, False, False,  True,\n",
       "       False, False, False, False, False,  True, False,  True,  True])"
      ]
     },
     "execution_count": 23,
     "metadata": {},
     "output_type": "execute_result"
    }
   ],
   "source": [
    "y_pred"
   ]
  },
  {
   "cell_type": "code",
   "execution_count": 24,
   "id": "e7f59861",
   "metadata": {},
   "outputs": [],
   "source": [
    "pd.DataFrame({ 'AutoML_prediction' :y_pred}).to_csv('AutoML_Prediction')"
   ]
  },
  {
   "cell_type": "code",
   "execution_count": null,
   "id": "629108bb",
   "metadata": {},
   "outputs": [],
   "source": []
  },
  {
   "cell_type": "code",
   "execution_count": null,
   "id": "01ea46c6",
   "metadata": {},
   "outputs": [],
   "source": []
  },
  {
   "cell_type": "code",
   "execution_count": null,
   "id": "46b6283e",
   "metadata": {},
   "outputs": [],
   "source": []
  }
 ],
 "metadata": {
  "kernelspec": {
   "display_name": "Python 3.6 - AzureML",
   "language": "python",
   "name": "python3-azureml"
  },
  "language_info": {
   "codemirror_mode": {
    "name": "ipython",
    "version": 3
   },
   "file_extension": ".py",
   "mimetype": "text/x-python",
   "name": "python",
   "nbconvert_exporter": "python",
   "pygments_lexer": "ipython3",
   "version": "3.6.9"
  }
 },
 "nbformat": 4,
 "nbformat_minor": 5
}
